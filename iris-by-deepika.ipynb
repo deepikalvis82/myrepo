{
 "cells": [
  {
   "cell_type": "markdown",
   "id": "53232954",
   "metadata": {
    "papermill": {
     "duration": 0.015966,
     "end_time": "2024-10-18T05:31:59.849438",
     "exception": false,
     "start_time": "2024-10-18T05:31:59.833472",
     "status": "completed"
    },
    "tags": []
   },
   "source": [
    "# KMeans Example with Iris Dataset (Unsupervised Learning)"
   ]
  },
  {
   "cell_type": "markdown",
   "id": "2aa7dc09",
   "metadata": {
    "papermill": {
     "duration": 0.014731,
     "end_time": "2024-10-18T05:31:59.879412",
     "exception": false,
     "start_time": "2024-10-18T05:31:59.864681",
     "status": "completed"
    },
    "tags": []
   },
   "source": [
    "## Import Libraries"
   ]
  },
  {
   "cell_type": "code",
   "execution_count": 1,
   "id": "993d7f69",
   "metadata": {
    "execution": {
     "iopub.execute_input": "2024-10-18T05:31:59.912600Z",
     "iopub.status.busy": "2024-10-18T05:31:59.911521Z",
     "iopub.status.idle": "2024-10-18T05:32:02.235449Z",
     "shell.execute_reply": "2024-10-18T05:32:02.234224Z"
    },
    "papermill": {
     "duration": 2.343144,
     "end_time": "2024-10-18T05:32:02.238288",
     "exception": false,
     "start_time": "2024-10-18T05:31:59.895144",
     "status": "completed"
    },
    "tags": []
   },
   "outputs": [],
   "source": [
    "from sklearn import datasets\n",
    "import pandas as pd\n",
    "import numpy as np"
   ]
  },
  {
   "cell_type": "markdown",
   "id": "2f97bce6",
   "metadata": {
    "papermill": {
     "duration": 0.015179,
     "end_time": "2024-10-18T05:32:02.268922",
     "exception": false,
     "start_time": "2024-10-18T05:32:02.253743",
     "status": "completed"
    },
    "tags": []
   },
   "source": [
    "### Set Random Seed"
   ]
  },
  {
   "cell_type": "code",
   "execution_count": 2,
   "id": "d31ff6a3",
   "metadata": {
    "execution": {
     "iopub.execute_input": "2024-10-18T05:32:02.301530Z",
     "iopub.status.busy": "2024-10-18T05:32:02.300712Z",
     "iopub.status.idle": "2024-10-18T05:32:02.306667Z",
     "shell.execute_reply": "2024-10-18T05:32:02.305689Z"
    },
    "papermill": {
     "duration": 0.024859,
     "end_time": "2024-10-18T05:32:02.309055",
     "exception": false,
     "start_time": "2024-10-18T05:32:02.284196",
     "status": "completed"
    },
    "tags": []
   },
   "outputs": [],
   "source": [
    "rng = np.random.RandomState(42)"
   ]
  },
  {
   "cell_type": "markdown",
   "id": "52cae784",
   "metadata": {
    "papermill": {
     "duration": 0.014682,
     "end_time": "2024-10-18T05:32:02.339058",
     "exception": false,
     "start_time": "2024-10-18T05:32:02.324376",
     "status": "completed"
    },
    "tags": []
   },
   "source": [
    "## Data Loading"
   ]
  },
  {
   "cell_type": "code",
   "execution_count": 3,
   "id": "a6e1844b",
   "metadata": {
    "execution": {
     "iopub.execute_input": "2024-10-18T05:32:02.371113Z",
     "iopub.status.busy": "2024-10-18T05:32:02.370694Z",
     "iopub.status.idle": "2024-10-18T05:32:02.385523Z",
     "shell.execute_reply": "2024-10-18T05:32:02.384531Z"
    },
    "papermill": {
     "duration": 0.034166,
     "end_time": "2024-10-18T05:32:02.388399",
     "exception": false,
     "start_time": "2024-10-18T05:32:02.354233",
     "status": "completed"
    },
    "tags": []
   },
   "outputs": [],
   "source": [
    "iris = datasets.load_iris()\n",
    "\n",
    "iris_df = pd.DataFrame(iris['data'], columns=iris[\"feature_names\"])"
   ]
  },
  {
   "cell_type": "markdown",
   "id": "66e8245c",
   "metadata": {
    "papermill": {
     "duration": 0.014871,
     "end_time": "2024-10-18T05:32:02.418661",
     "exception": false,
     "start_time": "2024-10-18T05:32:02.403790",
     "status": "completed"
    },
    "tags": []
   },
   "source": [
    "## Inspect Data structure"
   ]
  },
  {
   "cell_type": "code",
   "execution_count": 4,
   "id": "0eec8c38",
   "metadata": {
    "execution": {
     "iopub.execute_input": "2024-10-18T05:32:02.451502Z",
     "iopub.status.busy": "2024-10-18T05:32:02.450437Z",
     "iopub.status.idle": "2024-10-18T05:32:02.459002Z",
     "shell.execute_reply": "2024-10-18T05:32:02.457792Z"
    },
    "papermill": {
     "duration": 0.027769,
     "end_time": "2024-10-18T05:32:02.461652",
     "exception": false,
     "start_time": "2024-10-18T05:32:02.433883",
     "status": "completed"
    },
    "tags": []
   },
   "outputs": [
    {
     "data": {
      "text/plain": [
       "dict_keys(['data', 'target', 'frame', 'target_names', 'DESCR', 'feature_names', 'filename', 'data_module'])"
      ]
     },
     "execution_count": 4,
     "metadata": {},
     "output_type": "execute_result"
    }
   ],
   "source": [
    "iris.keys()"
   ]
  },
  {
   "cell_type": "code",
   "execution_count": 5,
   "id": "2d4fa889",
   "metadata": {
    "execution": {
     "iopub.execute_input": "2024-10-18T05:32:02.494273Z",
     "iopub.status.busy": "2024-10-18T05:32:02.493803Z",
     "iopub.status.idle": "2024-10-18T05:32:02.526703Z",
     "shell.execute_reply": "2024-10-18T05:32:02.525362Z"
    },
    "papermill": {
     "duration": 0.052121,
     "end_time": "2024-10-18T05:32:02.529206",
     "exception": false,
     "start_time": "2024-10-18T05:32:02.477085",
     "status": "completed"
    },
    "tags": []
   },
   "outputs": [
    {
     "name": "stdout",
     "output_type": "stream",
     "text": [
      "<class 'pandas.core.frame.DataFrame'>\n",
      "RangeIndex: 150 entries, 0 to 149\n",
      "Data columns (total 4 columns):\n",
      " #   Column             Non-Null Count  Dtype  \n",
      "---  ------             --------------  -----  \n",
      " 0   sepal length (cm)  150 non-null    float64\n",
      " 1   sepal width (cm)   150 non-null    float64\n",
      " 2   petal length (cm)  150 non-null    float64\n",
      " 3   petal width (cm)   150 non-null    float64\n",
      "dtypes: float64(4)\n",
      "memory usage: 4.8 KB\n"
     ]
    }
   ],
   "source": [
    "iris_df.info()"
   ]
  },
  {
   "cell_type": "markdown",
   "id": "12cf6793",
   "metadata": {
    "papermill": {
     "duration": 0.016331,
     "end_time": "2024-10-18T05:32:02.561611",
     "exception": false,
     "start_time": "2024-10-18T05:32:02.545280",
     "status": "completed"
    },
    "tags": []
   },
   "source": [
    "### make Target Dataframe"
   ]
  },
  {
   "cell_type": "code",
   "execution_count": 6,
   "id": "cb7d1815",
   "metadata": {
    "execution": {
     "iopub.execute_input": "2024-10-18T05:32:02.594832Z",
     "iopub.status.busy": "2024-10-18T05:32:02.594406Z",
     "iopub.status.idle": "2024-10-18T05:32:02.599899Z",
     "shell.execute_reply": "2024-10-18T05:32:02.598785Z"
    },
    "papermill": {
     "duration": 0.024848,
     "end_time": "2024-10-18T05:32:02.602188",
     "exception": false,
     "start_time": "2024-10-18T05:32:02.577340",
     "status": "completed"
    },
    "tags": []
   },
   "outputs": [],
   "source": [
    "iris_targets = pd.DataFrame(iris[\"target\"], columns=[\"target\"])"
   ]
  },
  {
   "cell_type": "markdown",
   "id": "088b6761",
   "metadata": {
    "papermill": {
     "duration": 0.015026,
     "end_time": "2024-10-18T05:32:02.632660",
     "exception": false,
     "start_time": "2024-10-18T05:32:02.617634",
     "status": "completed"
    },
    "tags": []
   },
   "source": [
    "### Add Categorical label for target (since it is a categorical)"
   ]
  },
  {
   "cell_type": "code",
   "execution_count": 7,
   "id": "091bc350",
   "metadata": {
    "execution": {
     "iopub.execute_input": "2024-10-18T05:32:02.665614Z",
     "iopub.status.busy": "2024-10-18T05:32:02.664825Z",
     "iopub.status.idle": "2024-10-18T05:32:02.671793Z",
     "shell.execute_reply": "2024-10-18T05:32:02.670684Z"
    },
    "papermill": {
     "duration": 0.025996,
     "end_time": "2024-10-18T05:32:02.674067",
     "exception": false,
     "start_time": "2024-10-18T05:32:02.648071",
     "status": "completed"
    },
    "tags": []
   },
   "outputs": [],
   "source": [
    "iris_targets[\"species\"] = iris_targets[\"target\"].apply(lambda x : iris[\"target_names\"][x])"
   ]
  },
  {
   "cell_type": "code",
   "execution_count": 8,
   "id": "8bfeea33",
   "metadata": {
    "execution": {
     "iopub.execute_input": "2024-10-18T05:32:02.707067Z",
     "iopub.status.busy": "2024-10-18T05:32:02.706613Z",
     "iopub.status.idle": "2024-10-18T05:32:02.720220Z",
     "shell.execute_reply": "2024-10-18T05:32:02.719138Z"
    },
    "papermill": {
     "duration": 0.033308,
     "end_time": "2024-10-18T05:32:02.722726",
     "exception": false,
     "start_time": "2024-10-18T05:32:02.689418",
     "status": "completed"
    },
    "tags": []
   },
   "outputs": [
    {
     "data": {
      "text/plain": [
       "target  species   \n",
       "0       setosa        50\n",
       "1       versicolor    50\n",
       "2       virginica     50\n",
       "Name: count, dtype: int64"
      ]
     },
     "execution_count": 8,
     "metadata": {},
     "output_type": "execute_result"
    }
   ],
   "source": [
    "iris_targets.value_counts()"
   ]
  },
  {
   "cell_type": "code",
   "execution_count": 9,
   "id": "aa0f83c3",
   "metadata": {
    "execution": {
     "iopub.execute_input": "2024-10-18T05:32:02.755994Z",
     "iopub.status.busy": "2024-10-18T05:32:02.755560Z",
     "iopub.status.idle": "2024-10-18T05:32:02.762522Z",
     "shell.execute_reply": "2024-10-18T05:32:02.761489Z"
    },
    "papermill": {
     "duration": 0.026407,
     "end_time": "2024-10-18T05:32:02.764946",
     "exception": false,
     "start_time": "2024-10-18T05:32:02.738539",
     "status": "completed"
    },
    "tags": []
   },
   "outputs": [
    {
     "data": {
      "text/plain": [
       "dict_keys(['data', 'target', 'frame', 'target_names', 'DESCR', 'feature_names', 'filename', 'data_module'])"
      ]
     },
     "execution_count": 9,
     "metadata": {},
     "output_type": "execute_result"
    }
   ],
   "source": [
    "iris.keys()"
   ]
  },
  {
   "cell_type": "code",
   "execution_count": 10,
   "id": "75922a4a",
   "metadata": {
    "execution": {
     "iopub.execute_input": "2024-10-18T05:32:02.799432Z",
     "iopub.status.busy": "2024-10-18T05:32:02.798989Z",
     "iopub.status.idle": "2024-10-18T05:32:02.806155Z",
     "shell.execute_reply": "2024-10-18T05:32:02.805029Z"
    },
    "papermill": {
     "duration": 0.027373,
     "end_time": "2024-10-18T05:32:02.808959",
     "exception": false,
     "start_time": "2024-10-18T05:32:02.781586",
     "status": "completed"
    },
    "tags": []
   },
   "outputs": [
    {
     "data": {
      "text/plain": [
       "array(['setosa', 'versicolor', 'virginica'], dtype='<U10')"
      ]
     },
     "execution_count": 10,
     "metadata": {},
     "output_type": "execute_result"
    }
   ],
   "source": [
    "iris[\"target_names\"]"
   ]
  },
  {
   "cell_type": "code",
   "execution_count": 11,
   "id": "723e34c6",
   "metadata": {
    "execution": {
     "iopub.execute_input": "2024-10-18T05:32:02.843359Z",
     "iopub.status.busy": "2024-10-18T05:32:02.842906Z",
     "iopub.status.idle": "2024-10-18T05:32:02.860737Z",
     "shell.execute_reply": "2024-10-18T05:32:02.859621Z"
    },
    "papermill": {
     "duration": 0.03824,
     "end_time": "2024-10-18T05:32:02.863291",
     "exception": false,
     "start_time": "2024-10-18T05:32:02.825051",
     "status": "completed"
    },
    "tags": []
   },
   "outputs": [
    {
     "data": {
      "text/html": [
       "<div>\n",
       "<style scoped>\n",
       "    .dataframe tbody tr th:only-of-type {\n",
       "        vertical-align: middle;\n",
       "    }\n",
       "\n",
       "    .dataframe tbody tr th {\n",
       "        vertical-align: top;\n",
       "    }\n",
       "\n",
       "    .dataframe thead th {\n",
       "        text-align: right;\n",
       "    }\n",
       "</style>\n",
       "<table border=\"1\" class=\"dataframe\">\n",
       "  <thead>\n",
       "    <tr style=\"text-align: right;\">\n",
       "      <th></th>\n",
       "      <th>target</th>\n",
       "      <th>species</th>\n",
       "    </tr>\n",
       "  </thead>\n",
       "  <tbody>\n",
       "    <tr>\n",
       "      <th>0</th>\n",
       "      <td>0</td>\n",
       "      <td>setosa</td>\n",
       "    </tr>\n",
       "    <tr>\n",
       "      <th>1</th>\n",
       "      <td>0</td>\n",
       "      <td>setosa</td>\n",
       "    </tr>\n",
       "    <tr>\n",
       "      <th>2</th>\n",
       "      <td>0</td>\n",
       "      <td>setosa</td>\n",
       "    </tr>\n",
       "    <tr>\n",
       "      <th>3</th>\n",
       "      <td>0</td>\n",
       "      <td>setosa</td>\n",
       "    </tr>\n",
       "    <tr>\n",
       "      <th>4</th>\n",
       "      <td>0</td>\n",
       "      <td>setosa</td>\n",
       "    </tr>\n",
       "    <tr>\n",
       "      <th>...</th>\n",
       "      <td>...</td>\n",
       "      <td>...</td>\n",
       "    </tr>\n",
       "    <tr>\n",
       "      <th>145</th>\n",
       "      <td>2</td>\n",
       "      <td>virginica</td>\n",
       "    </tr>\n",
       "    <tr>\n",
       "      <th>146</th>\n",
       "      <td>2</td>\n",
       "      <td>virginica</td>\n",
       "    </tr>\n",
       "    <tr>\n",
       "      <th>147</th>\n",
       "      <td>2</td>\n",
       "      <td>virginica</td>\n",
       "    </tr>\n",
       "    <tr>\n",
       "      <th>148</th>\n",
       "      <td>2</td>\n",
       "      <td>virginica</td>\n",
       "    </tr>\n",
       "    <tr>\n",
       "      <th>149</th>\n",
       "      <td>2</td>\n",
       "      <td>virginica</td>\n",
       "    </tr>\n",
       "  </tbody>\n",
       "</table>\n",
       "<p>150 rows × 2 columns</p>\n",
       "</div>"
      ],
      "text/plain": [
       "     target    species\n",
       "0         0     setosa\n",
       "1         0     setosa\n",
       "2         0     setosa\n",
       "3         0     setosa\n",
       "4         0     setosa\n",
       "..      ...        ...\n",
       "145       2  virginica\n",
       "146       2  virginica\n",
       "147       2  virginica\n",
       "148       2  virginica\n",
       "149       2  virginica\n",
       "\n",
       "[150 rows x 2 columns]"
      ]
     },
     "execution_count": 11,
     "metadata": {},
     "output_type": "execute_result"
    }
   ],
   "source": [
    "iris_targets"
   ]
  },
  {
   "cell_type": "code",
   "execution_count": 12,
   "id": "04dfa10a",
   "metadata": {
    "execution": {
     "iopub.execute_input": "2024-10-18T05:32:02.897442Z",
     "iopub.status.busy": "2024-10-18T05:32:02.896992Z",
     "iopub.status.idle": "2024-10-18T05:32:02.918925Z",
     "shell.execute_reply": "2024-10-18T05:32:02.917738Z"
    },
    "papermill": {
     "duration": 0.041977,
     "end_time": "2024-10-18T05:32:02.921656",
     "exception": false,
     "start_time": "2024-10-18T05:32:02.879679",
     "status": "completed"
    },
    "tags": []
   },
   "outputs": [
    {
     "data": {
      "text/html": [
       "<div>\n",
       "<style scoped>\n",
       "    .dataframe tbody tr th:only-of-type {\n",
       "        vertical-align: middle;\n",
       "    }\n",
       "\n",
       "    .dataframe tbody tr th {\n",
       "        vertical-align: top;\n",
       "    }\n",
       "\n",
       "    .dataframe thead th {\n",
       "        text-align: right;\n",
       "    }\n",
       "</style>\n",
       "<table border=\"1\" class=\"dataframe\">\n",
       "  <thead>\n",
       "    <tr style=\"text-align: right;\">\n",
       "      <th></th>\n",
       "      <th>sepal length (cm)</th>\n",
       "      <th>sepal width (cm)</th>\n",
       "      <th>petal length (cm)</th>\n",
       "      <th>petal width (cm)</th>\n",
       "      <th>target</th>\n",
       "      <th>species</th>\n",
       "    </tr>\n",
       "  </thead>\n",
       "  <tbody>\n",
       "    <tr>\n",
       "      <th>0</th>\n",
       "      <td>5.1</td>\n",
       "      <td>3.5</td>\n",
       "      <td>1.4</td>\n",
       "      <td>0.2</td>\n",
       "      <td>0</td>\n",
       "      <td>setosa</td>\n",
       "    </tr>\n",
       "    <tr>\n",
       "      <th>1</th>\n",
       "      <td>4.9</td>\n",
       "      <td>3.0</td>\n",
       "      <td>1.4</td>\n",
       "      <td>0.2</td>\n",
       "      <td>0</td>\n",
       "      <td>setosa</td>\n",
       "    </tr>\n",
       "    <tr>\n",
       "      <th>2</th>\n",
       "      <td>4.7</td>\n",
       "      <td>3.2</td>\n",
       "      <td>1.3</td>\n",
       "      <td>0.2</td>\n",
       "      <td>0</td>\n",
       "      <td>setosa</td>\n",
       "    </tr>\n",
       "    <tr>\n",
       "      <th>3</th>\n",
       "      <td>4.6</td>\n",
       "      <td>3.1</td>\n",
       "      <td>1.5</td>\n",
       "      <td>0.2</td>\n",
       "      <td>0</td>\n",
       "      <td>setosa</td>\n",
       "    </tr>\n",
       "    <tr>\n",
       "      <th>4</th>\n",
       "      <td>5.0</td>\n",
       "      <td>3.6</td>\n",
       "      <td>1.4</td>\n",
       "      <td>0.2</td>\n",
       "      <td>0</td>\n",
       "      <td>setosa</td>\n",
       "    </tr>\n",
       "    <tr>\n",
       "      <th>...</th>\n",
       "      <td>...</td>\n",
       "      <td>...</td>\n",
       "      <td>...</td>\n",
       "      <td>...</td>\n",
       "      <td>...</td>\n",
       "      <td>...</td>\n",
       "    </tr>\n",
       "    <tr>\n",
       "      <th>145</th>\n",
       "      <td>6.7</td>\n",
       "      <td>3.0</td>\n",
       "      <td>5.2</td>\n",
       "      <td>2.3</td>\n",
       "      <td>2</td>\n",
       "      <td>virginica</td>\n",
       "    </tr>\n",
       "    <tr>\n",
       "      <th>146</th>\n",
       "      <td>6.3</td>\n",
       "      <td>2.5</td>\n",
       "      <td>5.0</td>\n",
       "      <td>1.9</td>\n",
       "      <td>2</td>\n",
       "      <td>virginica</td>\n",
       "    </tr>\n",
       "    <tr>\n",
       "      <th>147</th>\n",
       "      <td>6.5</td>\n",
       "      <td>3.0</td>\n",
       "      <td>5.2</td>\n",
       "      <td>2.0</td>\n",
       "      <td>2</td>\n",
       "      <td>virginica</td>\n",
       "    </tr>\n",
       "    <tr>\n",
       "      <th>148</th>\n",
       "      <td>6.2</td>\n",
       "      <td>3.4</td>\n",
       "      <td>5.4</td>\n",
       "      <td>2.3</td>\n",
       "      <td>2</td>\n",
       "      <td>virginica</td>\n",
       "    </tr>\n",
       "    <tr>\n",
       "      <th>149</th>\n",
       "      <td>5.9</td>\n",
       "      <td>3.0</td>\n",
       "      <td>5.1</td>\n",
       "      <td>1.8</td>\n",
       "      <td>2</td>\n",
       "      <td>virginica</td>\n",
       "    </tr>\n",
       "  </tbody>\n",
       "</table>\n",
       "<p>150 rows × 6 columns</p>\n",
       "</div>"
      ],
      "text/plain": [
       "     sepal length (cm)  sepal width (cm)  petal length (cm)  petal width (cm)  \\\n",
       "0                  5.1               3.5                1.4               0.2   \n",
       "1                  4.9               3.0                1.4               0.2   \n",
       "2                  4.7               3.2                1.3               0.2   \n",
       "3                  4.6               3.1                1.5               0.2   \n",
       "4                  5.0               3.6                1.4               0.2   \n",
       "..                 ...               ...                ...               ...   \n",
       "145                6.7               3.0                5.2               2.3   \n",
       "146                6.3               2.5                5.0               1.9   \n",
       "147                6.5               3.0                5.2               2.0   \n",
       "148                6.2               3.4                5.4               2.3   \n",
       "149                5.9               3.0                5.1               1.8   \n",
       "\n",
       "     target    species  \n",
       "0         0     setosa  \n",
       "1         0     setosa  \n",
       "2         0     setosa  \n",
       "3         0     setosa  \n",
       "4         0     setosa  \n",
       "..      ...        ...  \n",
       "145       2  virginica  \n",
       "146       2  virginica  \n",
       "147       2  virginica  \n",
       "148       2  virginica  \n",
       "149       2  virginica  \n",
       "\n",
       "[150 rows x 6 columns]"
      ]
     },
     "execution_count": 12,
     "metadata": {},
     "output_type": "execute_result"
    }
   ],
   "source": [
    "pd.concat([iris_df,iris_targets], axis=1)"
   ]
  },
  {
   "cell_type": "markdown",
   "id": "80f7dba0",
   "metadata": {
    "papermill": {
     "duration": 0.016204,
     "end_time": "2024-10-18T05:32:02.954977",
     "exception": false,
     "start_time": "2024-10-18T05:32:02.938773",
     "status": "completed"
    },
    "tags": []
   },
   "source": [
    "## EDA Exploratory Data Analysis"
   ]
  },
  {
   "cell_type": "code",
   "execution_count": 13,
   "id": "ac335dec",
   "metadata": {
    "execution": {
     "iopub.execute_input": "2024-10-18T05:32:02.990970Z",
     "iopub.status.busy": "2024-10-18T05:32:02.990096Z",
     "iopub.status.idle": "2024-10-18T05:32:04.176557Z",
     "shell.execute_reply": "2024-10-18T05:32:04.175436Z"
    },
    "papermill": {
     "duration": 1.207658,
     "end_time": "2024-10-18T05:32:04.179921",
     "exception": false,
     "start_time": "2024-10-18T05:32:02.972263",
     "status": "completed"
    },
    "tags": []
   },
   "outputs": [
    {
     "data": {
      "text/plain": [
       "<Axes: xlabel='sepal length (cm)', ylabel='sepal width (cm)'>"
      ]
     },
     "execution_count": 13,
     "metadata": {},
     "output_type": "execute_result"
    },
    {
     "data": {
      "image/png": "[encoded data removed]",
      "text/plain": [
       "<Figure size 640x480 with 1 Axes>"
      ]
     },
     "metadata": {},
     "output_type": "display_data"
    }
   ],
   "source": [
    "import seaborn as sns\n",
    "import matplotlib.pyplot as plt\n",
    "sns.set_theme(style=\"whitegrid\")\n",
    "\n",
    "\n",
    "\n",
    "sns.scatterplot(x=\"sepal length (cm)\", y=\"sepal width (cm)\",\n",
    "                hue=\"species\",\n",
    "                sizes=(1, 8), linewidth=0,\n",
    "                data=pd.concat([iris_df,iris_targets], axis= 1))\n"
   ]
  },
  {
   "cell_type": "code",
   "execution_count": 14,
   "id": "bec6f184",
   "metadata": {
    "execution": {
     "iopub.execute_input": "2024-10-18T05:32:04.217957Z",
     "iopub.status.busy": "2024-10-18T05:32:04.217350Z",
     "iopub.status.idle": "2024-10-18T05:32:04.778066Z",
     "shell.execute_reply": "2024-10-18T05:32:04.776792Z"
    },
    "papermill": {
     "duration": 0.58263,
     "end_time": "2024-10-18T05:32:04.781049",
     "exception": false,
     "start_time": "2024-10-18T05:32:04.198419",
     "status": "completed"
    },
    "tags": []
   },
   "outputs": [
    {
     "data": {
      "text/plain": [
       "<Axes: xlabel='petal length (cm)', ylabel='sepal width (cm)'>"
      ]
     },
     "execution_count": 14,
     "metadata": {},
     "output_type": "execute_result"
    },
    {
     "data": {
      "image/png": "[encoded data removed]",
      "text/plain": [
       "<Figure size 640x480 with 1 Axes>"
      ]
     },
     "metadata": {},
     "output_type": "display_data"
    }
   ],
   "source": [
    "sns.scatterplot(x=\"petal length (cm)\", y=\"sepal width (cm)\",\n",
    "                hue=\"target\",\n",
    "                sizes=(1, 8), linewidth=0,\n",
    "                data=pd.concat([iris_df,iris_targets], axis= 1))"
   ]
  },
  {
   "cell_type": "markdown",
   "id": "02457b5d",
   "metadata": {
    "papermill": {
     "duration": 0.018851,
     "end_time": "2024-10-18T05:32:04.818968",
     "exception": false,
     "start_time": "2024-10-18T05:32:04.800117",
     "status": "completed"
    },
    "tags": []
   },
   "source": [
    "Great but what if I don't have the targets!!"
   ]
  },
  {
   "cell_type": "code",
   "execution_count": 15,
   "id": "1b9c7128",
   "metadata": {
    "execution": {
     "iopub.execute_input": "2024-10-18T05:32:04.859578Z",
     "iopub.status.busy": "2024-10-18T05:32:04.858353Z",
     "iopub.status.idle": "2024-10-18T05:32:05.281240Z",
     "shell.execute_reply": "2024-10-18T05:32:05.279759Z"
    },
    "papermill": {
     "duration": 0.446006,
     "end_time": "2024-10-18T05:32:05.284007",
     "exception": false,
     "start_time": "2024-10-18T05:32:04.838001",
     "status": "completed"
    },
    "tags": []
   },
   "outputs": [
    {
     "data": {
      "text/plain": [
       "<Axes: xlabel='petal length (cm)', ylabel='sepal width (cm)'>"
      ]
     },
     "execution_count": 15,
     "metadata": {},
     "output_type": "execute_result"
    },
    {
     "data": {
      "image/png": "[encoded data removed]",
      "text/plain": [
       "<Figure size 640x480 with 1 Axes>"
      ]
     },
     "metadata": {},
     "output_type": "display_data"
    }
   ],
   "source": [
    "sns.scatterplot(x=\"petal length (cm)\", y=\"sepal width (cm)\",\n",
    "#                 hue=\"species\",\n",
    "                sizes=(1, 8), linewidth=0,\n",
    "                data=pd.concat([iris_df], axis= 1))"
   ]
  },
  {
   "cell_type": "markdown",
   "id": "bfead092",
   "metadata": {
    "papermill": {
     "duration": 0.01871,
     "end_time": "2024-10-18T05:32:05.321981",
     "exception": false,
     "start_time": "2024-10-18T05:32:05.303271",
     "status": "completed"
    },
    "tags": []
   },
   "source": [
    "**This might seem all quite complicated but we did Machine Learning in four lines of python**\n",
    "1. Import the model from sklearn\n",
    "2. Initialise and set Hyper-parameters\n",
    "3. Train or 'Fit' the model to our data\n",
    "4. Use it to make predictions!!\n",
    "\n",
    "```python\n",
    "from sklearn.cluster import KMeans\n",
    "model = KMeans(n_clusters=3, n_init='auto', random_state=rng)\n",
    "model = model.fit(iris_df)\n",
    "predictions[\"cluster\"] = model.predict(iris_df)\n",
    "\n",
    "```"
   ]
  },
  {
   "cell_type": "code",
   "execution_count": 16,
   "id": "946c2383",
   "metadata": {
    "execution": {
     "iopub.execute_input": "2024-10-18T05:32:05.361960Z",
     "iopub.status.busy": "2024-10-18T05:32:05.361527Z",
     "iopub.status.idle": "2024-10-18T05:32:05.735475Z",
     "shell.execute_reply": "2024-10-18T05:32:05.734028Z"
    },
    "papermill": {
     "duration": 0.397468,
     "end_time": "2024-10-18T05:32:05.738442",
     "exception": false,
     "start_time": "2024-10-18T05:32:05.340974",
     "status": "completed"
    },
    "tags": []
   },
   "outputs": [],
   "source": [
    "from sklearn.cluster import KMeans"
   ]
  },
  {
   "cell_type": "code",
   "execution_count": 17,
   "id": "1b3f705b",
   "metadata": {
    "execution": {
     "iopub.execute_input": "2024-10-18T05:32:05.778778Z",
     "iopub.status.busy": "2024-10-18T05:32:05.778332Z",
     "iopub.status.idle": "2024-10-18T05:32:05.784026Z",
     "shell.execute_reply": "2024-10-18T05:32:05.782951Z"
    },
    "papermill": {
     "duration": 0.028925,
     "end_time": "2024-10-18T05:32:05.786770",
     "exception": false,
     "start_time": "2024-10-18T05:32:05.757845",
     "status": "completed"
    },
    "tags": []
   },
   "outputs": [],
   "source": [
    "model = KMeans(n_clusters=3, n_init='auto', random_state=rng)"
   ]
  },
  {
   "cell_type": "code",
   "execution_count": 18,
   "id": "bc0cc236",
   "metadata": {
    "execution": {
     "iopub.execute_input": "2024-10-18T05:32:05.827319Z",
     "iopub.status.busy": "2024-10-18T05:32:05.826880Z",
     "iopub.status.idle": "2024-10-18T05:32:05.913677Z",
     "shell.execute_reply": "2024-10-18T05:32:05.911513Z"
    },
    "papermill": {
     "duration": 0.11093,
     "end_time": "2024-10-18T05:32:05.917231",
     "exception": false,
     "start_time": "2024-10-18T05:32:05.806301",
     "status": "completed"
    },
    "tags": []
   },
   "outputs": [],
   "source": [
    "model = model.fit(iris_df)"
   ]
  },
  {
   "cell_type": "code",
   "execution_count": 19,
   "id": "2ef20f4a",
   "metadata": {
    "execution": {
     "iopub.execute_input": "2024-10-18T05:32:05.965206Z",
     "iopub.status.busy": "2024-10-18T05:32:05.964614Z",
     "iopub.status.idle": "2024-10-18T05:32:05.986131Z",
     "shell.execute_reply": "2024-10-18T05:32:05.984940Z"
    },
    "papermill": {
     "duration": 0.04633,
     "end_time": "2024-10-18T05:32:05.988591",
     "exception": false,
     "start_time": "2024-10-18T05:32:05.942261",
     "status": "completed"
    },
    "tags": []
   },
   "outputs": [
    {
     "data": {
      "text/html": [
       "<div>\n",
       "<style scoped>\n",
       "    .dataframe tbody tr th:only-of-type {\n",
       "        vertical-align: middle;\n",
       "    }\n",
       "\n",
       "    .dataframe tbody tr th {\n",
       "        vertical-align: top;\n",
       "    }\n",
       "\n",
       "    .dataframe thead th {\n",
       "        text-align: right;\n",
       "    }\n",
       "</style>\n",
       "<table border=\"1\" class=\"dataframe\">\n",
       "  <thead>\n",
       "    <tr style=\"text-align: right;\">\n",
       "      <th></th>\n",
       "      <th>sepal length (cm)</th>\n",
       "      <th>sepal width (cm)</th>\n",
       "      <th>petal length (cm)</th>\n",
       "      <th>petal width (cm)</th>\n",
       "    </tr>\n",
       "  </thead>\n",
       "  <tbody>\n",
       "    <tr>\n",
       "      <th>0</th>\n",
       "      <td>5.1</td>\n",
       "      <td>3.5</td>\n",
       "      <td>1.4</td>\n",
       "      <td>0.2</td>\n",
       "    </tr>\n",
       "    <tr>\n",
       "      <th>1</th>\n",
       "      <td>4.9</td>\n",
       "      <td>3.0</td>\n",
       "      <td>1.4</td>\n",
       "      <td>0.2</td>\n",
       "    </tr>\n",
       "    <tr>\n",
       "      <th>2</th>\n",
       "      <td>4.7</td>\n",
       "      <td>3.2</td>\n",
       "      <td>1.3</td>\n",
       "      <td>0.2</td>\n",
       "    </tr>\n",
       "    <tr>\n",
       "      <th>3</th>\n",
       "      <td>4.6</td>\n",
       "      <td>3.1</td>\n",
       "      <td>1.5</td>\n",
       "      <td>0.2</td>\n",
       "    </tr>\n",
       "    <tr>\n",
       "      <th>4</th>\n",
       "      <td>5.0</td>\n",
       "      <td>3.6</td>\n",
       "      <td>1.4</td>\n",
       "      <td>0.2</td>\n",
       "    </tr>\n",
       "    <tr>\n",
       "      <th>...</th>\n",
       "      <td>...</td>\n",
       "      <td>...</td>\n",
       "      <td>...</td>\n",
       "      <td>...</td>\n",
       "    </tr>\n",
       "    <tr>\n",
       "      <th>145</th>\n",
       "      <td>6.7</td>\n",
       "      <td>3.0</td>\n",
       "      <td>5.2</td>\n",
       "      <td>2.3</td>\n",
       "    </tr>\n",
       "    <tr>\n",
       "      <th>146</th>\n",
       "      <td>6.3</td>\n",
       "      <td>2.5</td>\n",
       "      <td>5.0</td>\n",
       "      <td>1.9</td>\n",
       "    </tr>\n",
       "    <tr>\n",
       "      <th>147</th>\n",
       "      <td>6.5</td>\n",
       "      <td>3.0</td>\n",
       "      <td>5.2</td>\n",
       "      <td>2.0</td>\n",
       "    </tr>\n",
       "    <tr>\n",
       "      <th>148</th>\n",
       "      <td>6.2</td>\n",
       "      <td>3.4</td>\n",
       "      <td>5.4</td>\n",
       "      <td>2.3</td>\n",
       "    </tr>\n",
       "    <tr>\n",
       "      <th>149</th>\n",
       "      <td>5.9</td>\n",
       "      <td>3.0</td>\n",
       "      <td>5.1</td>\n",
       "      <td>1.8</td>\n",
       "    </tr>\n",
       "  </tbody>\n",
       "</table>\n",
       "<p>150 rows × 4 columns</p>\n",
       "</div>"
      ],
      "text/plain": [
       "     sepal length (cm)  sepal width (cm)  petal length (cm)  petal width (cm)\n",
       "0                  5.1               3.5                1.4               0.2\n",
       "1                  4.9               3.0                1.4               0.2\n",
       "2                  4.7               3.2                1.3               0.2\n",
       "3                  4.6               3.1                1.5               0.2\n",
       "4                  5.0               3.6                1.4               0.2\n",
       "..                 ...               ...                ...               ...\n",
       "145                6.7               3.0                5.2               2.3\n",
       "146                6.3               2.5                5.0               1.9\n",
       "147                6.5               3.0                5.2               2.0\n",
       "148                6.2               3.4                5.4               2.3\n",
       "149                5.9               3.0                5.1               1.8\n",
       "\n",
       "[150 rows x 4 columns]"
      ]
     },
     "execution_count": 19,
     "metadata": {},
     "output_type": "execute_result"
    }
   ],
   "source": [
    "iris_df"
   ]
  },
  {
   "cell_type": "code",
   "execution_count": 20,
   "id": "7081a254",
   "metadata": {
    "execution": {
     "iopub.execute_input": "2024-10-18T05:32:06.036524Z",
     "iopub.status.busy": "2024-10-18T05:32:06.035064Z",
     "iopub.status.idle": "2024-10-18T05:32:06.057095Z",
     "shell.execute_reply": "2024-10-18T05:32:06.055978Z"
    },
    "papermill": {
     "duration": 0.045805,
     "end_time": "2024-10-18T05:32:06.059651",
     "exception": false,
     "start_time": "2024-10-18T05:32:06.013846",
     "status": "completed"
    },
    "tags": []
   },
   "outputs": [
    {
     "data": {
      "text/html": [
       "<div>\n",
       "<style scoped>\n",
       "    .dataframe tbody tr th:only-of-type {\n",
       "        vertical-align: middle;\n",
       "    }\n",
       "\n",
       "    .dataframe tbody tr th {\n",
       "        vertical-align: top;\n",
       "    }\n",
       "\n",
       "    .dataframe thead th {\n",
       "        text-align: right;\n",
       "    }\n",
       "</style>\n",
       "<table border=\"1\" class=\"dataframe\">\n",
       "  <thead>\n",
       "    <tr style=\"text-align: right;\">\n",
       "      <th></th>\n",
       "      <th>sepal length (cm)</th>\n",
       "      <th>sepal width (cm)</th>\n",
       "      <th>petal length (cm)</th>\n",
       "      <th>petal width (cm)</th>\n",
       "      <th>cluster</th>\n",
       "    </tr>\n",
       "  </thead>\n",
       "  <tbody>\n",
       "    <tr>\n",
       "      <th>0</th>\n",
       "      <td>5.1</td>\n",
       "      <td>3.5</td>\n",
       "      <td>1.4</td>\n",
       "      <td>0.2</td>\n",
       "      <td>1</td>\n",
       "    </tr>\n",
       "    <tr>\n",
       "      <th>1</th>\n",
       "      <td>4.9</td>\n",
       "      <td>3.0</td>\n",
       "      <td>1.4</td>\n",
       "      <td>0.2</td>\n",
       "      <td>1</td>\n",
       "    </tr>\n",
       "    <tr>\n",
       "      <th>2</th>\n",
       "      <td>4.7</td>\n",
       "      <td>3.2</td>\n",
       "      <td>1.3</td>\n",
       "      <td>0.2</td>\n",
       "      <td>1</td>\n",
       "    </tr>\n",
       "    <tr>\n",
       "      <th>3</th>\n",
       "      <td>4.6</td>\n",
       "      <td>3.1</td>\n",
       "      <td>1.5</td>\n",
       "      <td>0.2</td>\n",
       "      <td>1</td>\n",
       "    </tr>\n",
       "    <tr>\n",
       "      <th>4</th>\n",
       "      <td>5.0</td>\n",
       "      <td>3.6</td>\n",
       "      <td>1.4</td>\n",
       "      <td>0.2</td>\n",
       "      <td>1</td>\n",
       "    </tr>\n",
       "    <tr>\n",
       "      <th>...</th>\n",
       "      <td>...</td>\n",
       "      <td>...</td>\n",
       "      <td>...</td>\n",
       "      <td>...</td>\n",
       "      <td>...</td>\n",
       "    </tr>\n",
       "    <tr>\n",
       "      <th>145</th>\n",
       "      <td>6.7</td>\n",
       "      <td>3.0</td>\n",
       "      <td>5.2</td>\n",
       "      <td>2.3</td>\n",
       "      <td>0</td>\n",
       "    </tr>\n",
       "    <tr>\n",
       "      <th>146</th>\n",
       "      <td>6.3</td>\n",
       "      <td>2.5</td>\n",
       "      <td>5.0</td>\n",
       "      <td>1.9</td>\n",
       "      <td>2</td>\n",
       "    </tr>\n",
       "    <tr>\n",
       "      <th>147</th>\n",
       "      <td>6.5</td>\n",
       "      <td>3.0</td>\n",
       "      <td>5.2</td>\n",
       "      <td>2.0</td>\n",
       "      <td>0</td>\n",
       "    </tr>\n",
       "    <tr>\n",
       "      <th>148</th>\n",
       "      <td>6.2</td>\n",
       "      <td>3.4</td>\n",
       "      <td>5.4</td>\n",
       "      <td>2.3</td>\n",
       "      <td>0</td>\n",
       "    </tr>\n",
       "    <tr>\n",
       "      <th>149</th>\n",
       "      <td>5.9</td>\n",
       "      <td>3.0</td>\n",
       "      <td>5.1</td>\n",
       "      <td>1.8</td>\n",
       "      <td>2</td>\n",
       "    </tr>\n",
       "  </tbody>\n",
       "</table>\n",
       "<p>150 rows × 5 columns</p>\n",
       "</div>"
      ],
      "text/plain": [
       "     sepal length (cm)  sepal width (cm)  petal length (cm)  petal width (cm)  \\\n",
       "0                  5.1               3.5                1.4               0.2   \n",
       "1                  4.9               3.0                1.4               0.2   \n",
       "2                  4.7               3.2                1.3               0.2   \n",
       "3                  4.6               3.1                1.5               0.2   \n",
       "4                  5.0               3.6                1.4               0.2   \n",
       "..                 ...               ...                ...               ...   \n",
       "145                6.7               3.0                5.2               2.3   \n",
       "146                6.3               2.5                5.0               1.9   \n",
       "147                6.5               3.0                5.2               2.0   \n",
       "148                6.2               3.4                5.4               2.3   \n",
       "149                5.9               3.0                5.1               1.8   \n",
       "\n",
       "     cluster  \n",
       "0          1  \n",
       "1          1  \n",
       "2          1  \n",
       "3          1  \n",
       "4          1  \n",
       "..       ...  \n",
       "145        0  \n",
       "146        2  \n",
       "147        0  \n",
       "148        0  \n",
       "149        2  \n",
       "\n",
       "[150 rows x 5 columns]"
      ]
     },
     "execution_count": 20,
     "metadata": {},
     "output_type": "execute_result"
    }
   ],
   "source": [
    "predictions = iris_df.copy()\n",
    "predictions[\"cluster\"] = model.predict(iris_df)\n",
    "predictions"
   ]
  },
  {
   "cell_type": "code",
   "execution_count": 21,
   "id": "0405b643",
   "metadata": {
    "execution": {
     "iopub.execute_input": "2024-10-18T05:32:06.101148Z",
     "iopub.status.busy": "2024-10-18T05:32:06.100604Z",
     "iopub.status.idle": "2024-10-18T05:32:06.625000Z",
     "shell.execute_reply": "2024-10-18T05:32:06.623823Z"
    },
    "papermill": {
     "duration": 0.547884,
     "end_time": "2024-10-18T05:32:06.627382",
     "exception": false,
     "start_time": "2024-10-18T05:32:06.079498",
     "status": "completed"
    },
    "tags": []
   },
   "outputs": [
    {
     "data": {
      "text/plain": [
       "<Axes: xlabel='petal length (cm)', ylabel='sepal width (cm)'>"
      ]
     },
     "execution_count": 21,
     "metadata": {},
     "output_type": "execute_result"
    },
    {
     "data": {
      "image/png": "[encoded data removed]",
      "text/plain": [
       "<Figure size 640x480 with 1 Axes>"
      ]
     },
     "metadata": {},
     "output_type": "display_data"
    }
   ],
   "source": [
    "sns.scatterplot(x=\"petal length (cm)\", y=\"sepal width (cm)\",\n",
    "                hue=\"cluster\",\n",
    "                sizes=(1, 8), linewidth=0,\n",
    "                data=predictions)"
   ]
  },
  {
   "cell_type": "code",
   "execution_count": 22,
   "id": "4d3254cc",
   "metadata": {
    "execution": {
     "iopub.execute_input": "2024-10-18T05:32:06.670894Z",
     "iopub.status.busy": "2024-10-18T05:32:06.670456Z",
     "iopub.status.idle": "2024-10-18T05:32:06.677704Z",
     "shell.execute_reply": "2024-10-18T05:32:06.676527Z"
    },
    "papermill": {
     "duration": 0.031868,
     "end_time": "2024-10-18T05:32:06.680005",
     "exception": false,
     "start_time": "2024-10-18T05:32:06.648137",
     "status": "completed"
    },
    "tags": []
   },
   "outputs": [],
   "source": [
    "from sklearn.model_selection import train_test_split\n",
    "\n",
    "train, test = train_test_split(iris_df,random_state=rng, test_size=0.2)"
   ]
  },
  {
   "cell_type": "code",
   "execution_count": 23,
   "id": "282674e6",
   "metadata": {
    "execution": {
     "iopub.execute_input": "2024-10-18T05:32:06.723505Z",
     "iopub.status.busy": "2024-10-18T05:32:06.723059Z",
     "iopub.status.idle": "2024-10-18T05:32:06.728936Z",
     "shell.execute_reply": "2024-10-18T05:32:06.727796Z"
    },
    "papermill": {
     "duration": 0.030531,
     "end_time": "2024-10-18T05:32:06.731458",
     "exception": false,
     "start_time": "2024-10-18T05:32:06.700927",
     "status": "completed"
    },
    "tags": []
   },
   "outputs": [],
   "source": [
    "model = KMeans(3, n_init=\"auto\", random_state=rng)"
   ]
  },
  {
   "cell_type": "code",
   "execution_count": 24,
   "id": "4e90f3cd",
   "metadata": {
    "execution": {
     "iopub.execute_input": "2024-10-18T05:32:06.774767Z",
     "iopub.status.busy": "2024-10-18T05:32:06.774354Z",
     "iopub.status.idle": "2024-10-18T05:32:06.784263Z",
     "shell.execute_reply": "2024-10-18T05:32:06.783350Z"
    },
    "papermill": {
     "duration": 0.039173,
     "end_time": "2024-10-18T05:32:06.791241",
     "exception": false,
     "start_time": "2024-10-18T05:32:06.752068",
     "status": "completed"
    },
    "tags": []
   },
   "outputs": [],
   "source": [
    "model = model.fit(train)"
   ]
  },
  {
   "cell_type": "code",
   "execution_count": 25,
   "id": "e2a06006",
   "metadata": {
    "execution": {
     "iopub.execute_input": "2024-10-18T05:32:06.835415Z",
     "iopub.status.busy": "2024-10-18T05:32:06.834952Z",
     "iopub.status.idle": "2024-10-18T05:32:06.844191Z",
     "shell.execute_reply": "2024-10-18T05:32:06.843088Z"
    },
    "papermill": {
     "duration": 0.034169,
     "end_time": "2024-10-18T05:32:06.847014",
     "exception": false,
     "start_time": "2024-10-18T05:32:06.812845",
     "status": "completed"
    },
    "tags": []
   },
   "outputs": [
    {
     "data": {
      "text/plain": [
       "sepal length (cm)    120\n",
       "sepal width (cm)     120\n",
       "petal length (cm)    120\n",
       "petal width (cm)     120\n",
       "dtype: int64"
      ]
     },
     "execution_count": 25,
     "metadata": {},
     "output_type": "execute_result"
    }
   ],
   "source": [
    "train.count()"
   ]
  },
  {
   "cell_type": "code",
   "execution_count": 26,
   "id": "ff41680b",
   "metadata": {
    "execution": {
     "iopub.execute_input": "2024-10-18T05:32:06.891515Z",
     "iopub.status.busy": "2024-10-18T05:32:06.891109Z",
     "iopub.status.idle": "2024-10-18T05:32:06.916729Z",
     "shell.execute_reply": "2024-10-18T05:32:06.915541Z"
    },
    "papermill": {
     "duration": 0.050688,
     "end_time": "2024-10-18T05:32:06.919092",
     "exception": false,
     "start_time": "2024-10-18T05:32:06.868404",
     "status": "completed"
    },
    "tags": []
   },
   "outputs": [
    {
     "data": {
      "text/html": [
       "<div>\n",
       "<style scoped>\n",
       "    .dataframe tbody tr th:only-of-type {\n",
       "        vertical-align: middle;\n",
       "    }\n",
       "\n",
       "    .dataframe tbody tr th {\n",
       "        vertical-align: top;\n",
       "    }\n",
       "\n",
       "    .dataframe thead th {\n",
       "        text-align: right;\n",
       "    }\n",
       "</style>\n",
       "<table border=\"1\" class=\"dataframe\">\n",
       "  <thead>\n",
       "    <tr style=\"text-align: right;\">\n",
       "      <th></th>\n",
       "      <th>sepal length (cm)</th>\n",
       "      <th>sepal width (cm)</th>\n",
       "      <th>petal length (cm)</th>\n",
       "      <th>petal width (cm)</th>\n",
       "    </tr>\n",
       "  </thead>\n",
       "  <tbody>\n",
       "    <tr>\n",
       "      <th>78</th>\n",
       "      <td>6.0</td>\n",
       "      <td>2.9</td>\n",
       "      <td>4.5</td>\n",
       "      <td>1.5</td>\n",
       "    </tr>\n",
       "    <tr>\n",
       "      <th>106</th>\n",
       "      <td>4.9</td>\n",
       "      <td>2.5</td>\n",
       "      <td>4.5</td>\n",
       "      <td>1.7</td>\n",
       "    </tr>\n",
       "    <tr>\n",
       "      <th>128</th>\n",
       "      <td>6.4</td>\n",
       "      <td>2.8</td>\n",
       "      <td>5.6</td>\n",
       "      <td>2.1</td>\n",
       "    </tr>\n",
       "    <tr>\n",
       "      <th>55</th>\n",
       "      <td>5.7</td>\n",
       "      <td>2.8</td>\n",
       "      <td>4.5</td>\n",
       "      <td>1.3</td>\n",
       "    </tr>\n",
       "    <tr>\n",
       "      <th>94</th>\n",
       "      <td>5.6</td>\n",
       "      <td>2.7</td>\n",
       "      <td>4.2</td>\n",
       "      <td>1.3</td>\n",
       "    </tr>\n",
       "    <tr>\n",
       "      <th>29</th>\n",
       "      <td>4.7</td>\n",
       "      <td>3.2</td>\n",
       "      <td>1.6</td>\n",
       "      <td>0.2</td>\n",
       "    </tr>\n",
       "    <tr>\n",
       "      <th>147</th>\n",
       "      <td>6.5</td>\n",
       "      <td>3.0</td>\n",
       "      <td>5.2</td>\n",
       "      <td>2.0</td>\n",
       "    </tr>\n",
       "    <tr>\n",
       "      <th>51</th>\n",
       "      <td>6.4</td>\n",
       "      <td>3.2</td>\n",
       "      <td>4.5</td>\n",
       "      <td>1.5</td>\n",
       "    </tr>\n",
       "    <tr>\n",
       "      <th>98</th>\n",
       "      <td>5.1</td>\n",
       "      <td>2.5</td>\n",
       "      <td>3.0</td>\n",
       "      <td>1.1</td>\n",
       "    </tr>\n",
       "    <tr>\n",
       "      <th>141</th>\n",
       "      <td>6.9</td>\n",
       "      <td>3.1</td>\n",
       "      <td>5.1</td>\n",
       "      <td>2.3</td>\n",
       "    </tr>\n",
       "    <tr>\n",
       "      <th>19</th>\n",
       "      <td>5.1</td>\n",
       "      <td>3.8</td>\n",
       "      <td>1.5</td>\n",
       "      <td>0.3</td>\n",
       "    </tr>\n",
       "    <tr>\n",
       "      <th>60</th>\n",
       "      <td>5.0</td>\n",
       "      <td>2.0</td>\n",
       "      <td>3.5</td>\n",
       "      <td>1.0</td>\n",
       "    </tr>\n",
       "    <tr>\n",
       "      <th>15</th>\n",
       "      <td>5.7</td>\n",
       "      <td>4.4</td>\n",
       "      <td>1.5</td>\n",
       "      <td>0.4</td>\n",
       "    </tr>\n",
       "    <tr>\n",
       "      <th>65</th>\n",
       "      <td>6.7</td>\n",
       "      <td>3.1</td>\n",
       "      <td>4.4</td>\n",
       "      <td>1.4</td>\n",
       "    </tr>\n",
       "    <tr>\n",
       "      <th>24</th>\n",
       "      <td>4.8</td>\n",
       "      <td>3.4</td>\n",
       "      <td>1.9</td>\n",
       "      <td>0.2</td>\n",
       "    </tr>\n",
       "    <tr>\n",
       "      <th>30</th>\n",
       "      <td>4.8</td>\n",
       "      <td>3.1</td>\n",
       "      <td>1.6</td>\n",
       "      <td>0.2</td>\n",
       "    </tr>\n",
       "    <tr>\n",
       "      <th>126</th>\n",
       "      <td>6.2</td>\n",
       "      <td>2.8</td>\n",
       "      <td>4.8</td>\n",
       "      <td>1.8</td>\n",
       "    </tr>\n",
       "    <tr>\n",
       "      <th>101</th>\n",
       "      <td>5.8</td>\n",
       "      <td>2.7</td>\n",
       "      <td>5.1</td>\n",
       "      <td>1.9</td>\n",
       "    </tr>\n",
       "    <tr>\n",
       "      <th>96</th>\n",
       "      <td>5.7</td>\n",
       "      <td>2.9</td>\n",
       "      <td>4.2</td>\n",
       "      <td>1.3</td>\n",
       "    </tr>\n",
       "    <tr>\n",
       "      <th>16</th>\n",
       "      <td>5.4</td>\n",
       "      <td>3.9</td>\n",
       "      <td>1.3</td>\n",
       "      <td>0.4</td>\n",
       "    </tr>\n",
       "    <tr>\n",
       "      <th>121</th>\n",
       "      <td>5.6</td>\n",
       "      <td>2.8</td>\n",
       "      <td>4.9</td>\n",
       "      <td>2.0</td>\n",
       "    </tr>\n",
       "    <tr>\n",
       "      <th>18</th>\n",
       "      <td>5.7</td>\n",
       "      <td>3.8</td>\n",
       "      <td>1.7</td>\n",
       "      <td>0.3</td>\n",
       "    </tr>\n",
       "    <tr>\n",
       "      <th>12</th>\n",
       "      <td>4.8</td>\n",
       "      <td>3.0</td>\n",
       "      <td>1.4</td>\n",
       "      <td>0.1</td>\n",
       "    </tr>\n",
       "    <tr>\n",
       "      <th>9</th>\n",
       "      <td>4.9</td>\n",
       "      <td>3.1</td>\n",
       "      <td>1.5</td>\n",
       "      <td>0.1</td>\n",
       "    </tr>\n",
       "    <tr>\n",
       "      <th>31</th>\n",
       "      <td>5.4</td>\n",
       "      <td>3.4</td>\n",
       "      <td>1.5</td>\n",
       "      <td>0.4</td>\n",
       "    </tr>\n",
       "    <tr>\n",
       "      <th>125</th>\n",
       "      <td>7.2</td>\n",
       "      <td>3.2</td>\n",
       "      <td>6.0</td>\n",
       "      <td>1.8</td>\n",
       "    </tr>\n",
       "    <tr>\n",
       "      <th>95</th>\n",
       "      <td>5.7</td>\n",
       "      <td>3.0</td>\n",
       "      <td>4.2</td>\n",
       "      <td>1.2</td>\n",
       "    </tr>\n",
       "    <tr>\n",
       "      <th>56</th>\n",
       "      <td>6.3</td>\n",
       "      <td>3.3</td>\n",
       "      <td>4.7</td>\n",
       "      <td>1.6</td>\n",
       "    </tr>\n",
       "    <tr>\n",
       "      <th>145</th>\n",
       "      <td>6.7</td>\n",
       "      <td>3.0</td>\n",
       "      <td>5.2</td>\n",
       "      <td>2.3</td>\n",
       "    </tr>\n",
       "    <tr>\n",
       "      <th>102</th>\n",
       "      <td>7.1</td>\n",
       "      <td>3.0</td>\n",
       "      <td>5.9</td>\n",
       "      <td>2.1</td>\n",
       "    </tr>\n",
       "  </tbody>\n",
       "</table>\n",
       "</div>"
      ],
      "text/plain": [
       "     sepal length (cm)  sepal width (cm)  petal length (cm)  petal width (cm)\n",
       "78                 6.0               2.9                4.5               1.5\n",
       "106                4.9               2.5                4.5               1.7\n",
       "128                6.4               2.8                5.6               2.1\n",
       "55                 5.7               2.8                4.5               1.3\n",
       "94                 5.6               2.7                4.2               1.3\n",
       "29                 4.7               3.2                1.6               0.2\n",
       "147                6.5               3.0                5.2               2.0\n",
       "51                 6.4               3.2                4.5               1.5\n",
       "98                 5.1               2.5                3.0               1.1\n",
       "141                6.9               3.1                5.1               2.3\n",
       "19                 5.1               3.8                1.5               0.3\n",
       "60                 5.0               2.0                3.5               1.0\n",
       "15                 5.7               4.4                1.5               0.4\n",
       "65                 6.7               3.1                4.4               1.4\n",
       "24                 4.8               3.4                1.9               0.2\n",
       "30                 4.8               3.1                1.6               0.2\n",
       "126                6.2               2.8                4.8               1.8\n",
       "101                5.8               2.7                5.1               1.9\n",
       "96                 5.7               2.9                4.2               1.3\n",
       "16                 5.4               3.9                1.3               0.4\n",
       "121                5.6               2.8                4.9               2.0\n",
       "18                 5.7               3.8                1.7               0.3\n",
       "12                 4.8               3.0                1.4               0.1\n",
       "9                  4.9               3.1                1.5               0.1\n",
       "31                 5.4               3.4                1.5               0.4\n",
       "125                7.2               3.2                6.0               1.8\n",
       "95                 5.7               3.0                4.2               1.2\n",
       "56                 6.3               3.3                4.7               1.6\n",
       "145                6.7               3.0                5.2               2.3\n",
       "102                7.1               3.0                5.9               2.1"
      ]
     },
     "execution_count": 26,
     "metadata": {},
     "output_type": "execute_result"
    }
   ],
   "source": [
    "test"
   ]
  },
  {
   "cell_type": "code",
   "execution_count": 27,
   "id": "df116f98",
   "metadata": {
    "execution": {
     "iopub.execute_input": "2024-10-18T05:32:06.964286Z",
     "iopub.status.busy": "2024-10-18T05:32:06.963143Z",
     "iopub.status.idle": "2024-10-18T05:32:06.973030Z",
     "shell.execute_reply": "2024-10-18T05:32:06.971978Z"
    },
    "papermill": {
     "duration": 0.034936,
     "end_time": "2024-10-18T05:32:06.975502",
     "exception": false,
     "start_time": "2024-10-18T05:32:06.940566",
     "status": "completed"
    },
    "tags": []
   },
   "outputs": [
    {
     "data": {
      "text/plain": [
       "array([2, 2, 0, 2, 2, 1, 0, 2, 2, 0, 1, 2, 1, 2, 1, 1, 2, 2, 2, 1, 2, 1,\n",
       "       1, 1, 1, 0, 2, 2, 0, 0], dtype=int32)"
      ]
     },
     "execution_count": 27,
     "metadata": {},
     "output_type": "execute_result"
    }
   ],
   "source": [
    "model.predict(test)"
   ]
  },
  {
   "cell_type": "code",
   "execution_count": 28,
   "id": "b321a0c4",
   "metadata": {
    "execution": {
     "iopub.execute_input": "2024-10-18T05:32:07.021140Z",
     "iopub.status.busy": "2024-10-18T05:32:07.020186Z",
     "iopub.status.idle": "2024-10-18T05:32:07.029901Z",
     "shell.execute_reply": "2024-10-18T05:32:07.028747Z"
    },
    "papermill": {
     "duration": 0.034822,
     "end_time": "2024-10-18T05:32:07.032201",
     "exception": false,
     "start_time": "2024-10-18T05:32:06.997379",
     "status": "completed"
    },
    "tags": []
   },
   "outputs": [
    {
     "data": {
      "text/plain": [
       "array([2, 2, 0, 2, 2, 1, 0, 2, 2, 0, 1, 2, 1, 2, 1, 1, 2, 2, 2, 1, 2, 1,\n",
       "       1, 1, 1, 0, 2, 2, 0, 0], dtype=int32)"
      ]
     },
     "execution_count": 28,
     "metadata": {},
     "output_type": "execute_result"
    }
   ],
   "source": [
    "model.predict(test)"
   ]
  },
  {
   "cell_type": "code",
   "execution_count": 29,
   "id": "b876a4f4",
   "metadata": {
    "execution": {
     "iopub.execute_input": "2024-10-18T05:32:07.077302Z",
     "iopub.status.busy": "2024-10-18T05:32:07.076352Z",
     "iopub.status.idle": "2024-10-18T05:32:07.084866Z",
     "shell.execute_reply": "2024-10-18T05:32:07.083795Z"
    },
    "papermill": {
     "duration": 0.034089,
     "end_time": "2024-10-18T05:32:07.087818",
     "exception": false,
     "start_time": "2024-10-18T05:32:07.053729",
     "status": "completed"
    },
    "tags": []
   },
   "outputs": [
    {
     "data": {
      "text/plain": [
       "target          0\n",
       "species    setosa\n",
       "Name: 16, dtype: object"
      ]
     },
     "execution_count": 29,
     "metadata": {},
     "output_type": "execute_result"
    }
   ],
   "source": [
    "iris_targets.loc[16]"
   ]
  },
  {
   "cell_type": "code",
   "execution_count": 30,
   "id": "42855081",
   "metadata": {
    "execution": {
     "iopub.execute_input": "2024-10-18T05:32:07.134217Z",
     "iopub.status.busy": "2024-10-18T05:32:07.133773Z",
     "iopub.status.idle": "2024-10-18T05:32:07.145806Z",
     "shell.execute_reply": "2024-10-18T05:32:07.144813Z"
    },
    "papermill": {
     "duration": 0.038487,
     "end_time": "2024-10-18T05:32:07.148484",
     "exception": false,
     "start_time": "2024-10-18T05:32:07.109997",
     "status": "completed"
    },
    "tags": []
   },
   "outputs": [],
   "source": [
    "predictions_test = test.copy()\n",
    "\n",
    "predictions_test[\"predict\"] = model.predict(test)\n",
    "predictions_test['predict'] = predictions_test['predict'].apply(\n",
    "    lambda x: 0 if x == 1 else ( 1 if x == 0 else x ) ) \n",
    "predictions_test[\"target\"] = predictions_test.index.map(iris_targets['target'])\n",
    "predictions_test[\"species\"] = predictions_test.index.map(iris_targets['species'])\n",
    "\n"
   ]
  },
  {
   "cell_type": "code",
   "execution_count": 31,
   "id": "831ac1e8",
   "metadata": {
    "execution": {
     "iopub.execute_input": "2024-10-18T05:32:07.194204Z",
     "iopub.status.busy": "2024-10-18T05:32:07.193364Z",
     "iopub.status.idle": "2024-10-18T05:32:07.222292Z",
     "shell.execute_reply": "2024-10-18T05:32:07.221072Z"
    },
    "papermill": {
     "duration": 0.054817,
     "end_time": "2024-10-18T05:32:07.224883",
     "exception": false,
     "start_time": "2024-10-18T05:32:07.170066",
     "status": "completed"
    },
    "tags": []
   },
   "outputs": [
    {
     "data": {
      "text/html": [
       "<div>\n",
       "<style scoped>\n",
       "    .dataframe tbody tr th:only-of-type {\n",
       "        vertical-align: middle;\n",
       "    }\n",
       "\n",
       "    .dataframe tbody tr th {\n",
       "        vertical-align: top;\n",
       "    }\n",
       "\n",
       "    .dataframe thead th {\n",
       "        text-align: right;\n",
       "    }\n",
       "</style>\n",
       "<table border=\"1\" class=\"dataframe\">\n",
       "  <thead>\n",
       "    <tr style=\"text-align: right;\">\n",
       "      <th></th>\n",
       "      <th>sepal length (cm)</th>\n",
       "      <th>sepal width (cm)</th>\n",
       "      <th>petal length (cm)</th>\n",
       "      <th>petal width (cm)</th>\n",
       "      <th>predict</th>\n",
       "      <th>target</th>\n",
       "      <th>species</th>\n",
       "    </tr>\n",
       "  </thead>\n",
       "  <tbody>\n",
       "    <tr>\n",
       "      <th>78</th>\n",
       "      <td>6.0</td>\n",
       "      <td>2.9</td>\n",
       "      <td>4.5</td>\n",
       "      <td>1.5</td>\n",
       "      <td>2</td>\n",
       "      <td>1</td>\n",
       "      <td>versicolor</td>\n",
       "    </tr>\n",
       "    <tr>\n",
       "      <th>106</th>\n",
       "      <td>4.9</td>\n",
       "      <td>2.5</td>\n",
       "      <td>4.5</td>\n",
       "      <td>1.7</td>\n",
       "      <td>2</td>\n",
       "      <td>2</td>\n",
       "      <td>virginica</td>\n",
       "    </tr>\n",
       "    <tr>\n",
       "      <th>128</th>\n",
       "      <td>6.4</td>\n",
       "      <td>2.8</td>\n",
       "      <td>5.6</td>\n",
       "      <td>2.1</td>\n",
       "      <td>1</td>\n",
       "      <td>2</td>\n",
       "      <td>virginica</td>\n",
       "    </tr>\n",
       "    <tr>\n",
       "      <th>55</th>\n",
       "      <td>5.7</td>\n",
       "      <td>2.8</td>\n",
       "      <td>4.5</td>\n",
       "      <td>1.3</td>\n",
       "      <td>2</td>\n",
       "      <td>1</td>\n",
       "      <td>versicolor</td>\n",
       "    </tr>\n",
       "    <tr>\n",
       "      <th>94</th>\n",
       "      <td>5.6</td>\n",
       "      <td>2.7</td>\n",
       "      <td>4.2</td>\n",
       "      <td>1.3</td>\n",
       "      <td>2</td>\n",
       "      <td>1</td>\n",
       "      <td>versicolor</td>\n",
       "    </tr>\n",
       "    <tr>\n",
       "      <th>29</th>\n",
       "      <td>4.7</td>\n",
       "      <td>3.2</td>\n",
       "      <td>1.6</td>\n",
       "      <td>0.2</td>\n",
       "      <td>0</td>\n",
       "      <td>0</td>\n",
       "      <td>setosa</td>\n",
       "    </tr>\n",
       "    <tr>\n",
       "      <th>147</th>\n",
       "      <td>6.5</td>\n",
       "      <td>3.0</td>\n",
       "      <td>5.2</td>\n",
       "      <td>2.0</td>\n",
       "      <td>1</td>\n",
       "      <td>2</td>\n",
       "      <td>virginica</td>\n",
       "    </tr>\n",
       "    <tr>\n",
       "      <th>51</th>\n",
       "      <td>6.4</td>\n",
       "      <td>3.2</td>\n",
       "      <td>4.5</td>\n",
       "      <td>1.5</td>\n",
       "      <td>2</td>\n",
       "      <td>1</td>\n",
       "      <td>versicolor</td>\n",
       "    </tr>\n",
       "    <tr>\n",
       "      <th>98</th>\n",
       "      <td>5.1</td>\n",
       "      <td>2.5</td>\n",
       "      <td>3.0</td>\n",
       "      <td>1.1</td>\n",
       "      <td>2</td>\n",
       "      <td>1</td>\n",
       "      <td>versicolor</td>\n",
       "    </tr>\n",
       "    <tr>\n",
       "      <th>141</th>\n",
       "      <td>6.9</td>\n",
       "      <td>3.1</td>\n",
       "      <td>5.1</td>\n",
       "      <td>2.3</td>\n",
       "      <td>1</td>\n",
       "      <td>2</td>\n",
       "      <td>virginica</td>\n",
       "    </tr>\n",
       "    <tr>\n",
       "      <th>19</th>\n",
       "      <td>5.1</td>\n",
       "      <td>3.8</td>\n",
       "      <td>1.5</td>\n",
       "      <td>0.3</td>\n",
       "      <td>0</td>\n",
       "      <td>0</td>\n",
       "      <td>setosa</td>\n",
       "    </tr>\n",
       "    <tr>\n",
       "      <th>60</th>\n",
       "      <td>5.0</td>\n",
       "      <td>2.0</td>\n",
       "      <td>3.5</td>\n",
       "      <td>1.0</td>\n",
       "      <td>2</td>\n",
       "      <td>1</td>\n",
       "      <td>versicolor</td>\n",
       "    </tr>\n",
       "    <tr>\n",
       "      <th>15</th>\n",
       "      <td>5.7</td>\n",
       "      <td>4.4</td>\n",
       "      <td>1.5</td>\n",
       "      <td>0.4</td>\n",
       "      <td>0</td>\n",
       "      <td>0</td>\n",
       "      <td>setosa</td>\n",
       "    </tr>\n",
       "    <tr>\n",
       "      <th>65</th>\n",
       "      <td>6.7</td>\n",
       "      <td>3.1</td>\n",
       "      <td>4.4</td>\n",
       "      <td>1.4</td>\n",
       "      <td>2</td>\n",
       "      <td>1</td>\n",
       "      <td>versicolor</td>\n",
       "    </tr>\n",
       "    <tr>\n",
       "      <th>24</th>\n",
       "      <td>4.8</td>\n",
       "      <td>3.4</td>\n",
       "      <td>1.9</td>\n",
       "      <td>0.2</td>\n",
       "      <td>0</td>\n",
       "      <td>0</td>\n",
       "      <td>setosa</td>\n",
       "    </tr>\n",
       "    <tr>\n",
       "      <th>30</th>\n",
       "      <td>4.8</td>\n",
       "      <td>3.1</td>\n",
       "      <td>1.6</td>\n",
       "      <td>0.2</td>\n",
       "      <td>0</td>\n",
       "      <td>0</td>\n",
       "      <td>setosa</td>\n",
       "    </tr>\n",
       "    <tr>\n",
       "      <th>126</th>\n",
       "      <td>6.2</td>\n",
       "      <td>2.8</td>\n",
       "      <td>4.8</td>\n",
       "      <td>1.8</td>\n",
       "      <td>2</td>\n",
       "      <td>2</td>\n",
       "      <td>virginica</td>\n",
       "    </tr>\n",
       "    <tr>\n",
       "      <th>101</th>\n",
       "      <td>5.8</td>\n",
       "      <td>2.7</td>\n",
       "      <td>5.1</td>\n",
       "      <td>1.9</td>\n",
       "      <td>2</td>\n",
       "      <td>2</td>\n",
       "      <td>virginica</td>\n",
       "    </tr>\n",
       "    <tr>\n",
       "      <th>96</th>\n",
       "      <td>5.7</td>\n",
       "      <td>2.9</td>\n",
       "      <td>4.2</td>\n",
       "      <td>1.3</td>\n",
       "      <td>2</td>\n",
       "      <td>1</td>\n",
       "      <td>versicolor</td>\n",
       "    </tr>\n",
       "    <tr>\n",
       "      <th>16</th>\n",
       "      <td>5.4</td>\n",
       "      <td>3.9</td>\n",
       "      <td>1.3</td>\n",
       "      <td>0.4</td>\n",
       "      <td>0</td>\n",
       "      <td>0</td>\n",
       "      <td>setosa</td>\n",
       "    </tr>\n",
       "    <tr>\n",
       "      <th>121</th>\n",
       "      <td>5.6</td>\n",
       "      <td>2.8</td>\n",
       "      <td>4.9</td>\n",
       "      <td>2.0</td>\n",
       "      <td>2</td>\n",
       "      <td>2</td>\n",
       "      <td>virginica</td>\n",
       "    </tr>\n",
       "    <tr>\n",
       "      <th>18</th>\n",
       "      <td>5.7</td>\n",
       "      <td>3.8</td>\n",
       "      <td>1.7</td>\n",
       "      <td>0.3</td>\n",
       "      <td>0</td>\n",
       "      <td>0</td>\n",
       "      <td>setosa</td>\n",
       "    </tr>\n",
       "    <tr>\n",
       "      <th>12</th>\n",
       "      <td>4.8</td>\n",
       "      <td>3.0</td>\n",
       "      <td>1.4</td>\n",
       "      <td>0.1</td>\n",
       "      <td>0</td>\n",
       "      <td>0</td>\n",
       "      <td>setosa</td>\n",
       "    </tr>\n",
       "    <tr>\n",
       "      <th>9</th>\n",
       "      <td>4.9</td>\n",
       "      <td>3.1</td>\n",
       "      <td>1.5</td>\n",
       "      <td>0.1</td>\n",
       "      <td>0</td>\n",
       "      <td>0</td>\n",
       "      <td>setosa</td>\n",
       "    </tr>\n",
       "    <tr>\n",
       "      <th>31</th>\n",
       "      <td>5.4</td>\n",
       "      <td>3.4</td>\n",
       "      <td>1.5</td>\n",
       "      <td>0.4</td>\n",
       "      <td>0</td>\n",
       "      <td>0</td>\n",
       "      <td>setosa</td>\n",
       "    </tr>\n",
       "    <tr>\n",
       "      <th>125</th>\n",
       "      <td>7.2</td>\n",
       "      <td>3.2</td>\n",
       "      <td>6.0</td>\n",
       "      <td>1.8</td>\n",
       "      <td>1</td>\n",
       "      <td>2</td>\n",
       "      <td>virginica</td>\n",
       "    </tr>\n",
       "    <tr>\n",
       "      <th>95</th>\n",
       "      <td>5.7</td>\n",
       "      <td>3.0</td>\n",
       "      <td>4.2</td>\n",
       "      <td>1.2</td>\n",
       "      <td>2</td>\n",
       "      <td>1</td>\n",
       "      <td>versicolor</td>\n",
       "    </tr>\n",
       "    <tr>\n",
       "      <th>56</th>\n",
       "      <td>6.3</td>\n",
       "      <td>3.3</td>\n",
       "      <td>4.7</td>\n",
       "      <td>1.6</td>\n",
       "      <td>2</td>\n",
       "      <td>1</td>\n",
       "      <td>versicolor</td>\n",
       "    </tr>\n",
       "    <tr>\n",
       "      <th>145</th>\n",
       "      <td>6.7</td>\n",
       "      <td>3.0</td>\n",
       "      <td>5.2</td>\n",
       "      <td>2.3</td>\n",
       "      <td>1</td>\n",
       "      <td>2</td>\n",
       "      <td>virginica</td>\n",
       "    </tr>\n",
       "    <tr>\n",
       "      <th>102</th>\n",
       "      <td>7.1</td>\n",
       "      <td>3.0</td>\n",
       "      <td>5.9</td>\n",
       "      <td>2.1</td>\n",
       "      <td>1</td>\n",
       "      <td>2</td>\n",
       "      <td>virginica</td>\n",
       "    </tr>\n",
       "  </tbody>\n",
       "</table>\n",
       "</div>"
      ],
      "text/plain": [
       "     sepal length (cm)  sepal width (cm)  petal length (cm)  petal width (cm)  \\\n",
       "78                 6.0               2.9                4.5               1.5   \n",
       "106                4.9               2.5                4.5               1.7   \n",
       "128                6.4               2.8                5.6               2.1   \n",
       "55                 5.7               2.8                4.5               1.3   \n",
       "94                 5.6               2.7                4.2               1.3   \n",
       "29                 4.7               3.2                1.6               0.2   \n",
       "147                6.5               3.0                5.2               2.0   \n",
       "51                 6.4               3.2                4.5               1.5   \n",
       "98                 5.1               2.5                3.0               1.1   \n",
       "141                6.9               3.1                5.1               2.3   \n",
       "19                 5.1               3.8                1.5               0.3   \n",
       "60                 5.0               2.0                3.5               1.0   \n",
       "15                 5.7               4.4                1.5               0.4   \n",
       "65                 6.7               3.1                4.4               1.4   \n",
       "24                 4.8               3.4                1.9               0.2   \n",
       "30                 4.8               3.1                1.6               0.2   \n",
       "126                6.2               2.8                4.8               1.8   \n",
       "101                5.8               2.7                5.1               1.9   \n",
       "96                 5.7               2.9                4.2               1.3   \n",
       "16                 5.4               3.9                1.3               0.4   \n",
       "121                5.6               2.8                4.9               2.0   \n",
       "18                 5.7               3.8                1.7               0.3   \n",
       "12                 4.8               3.0                1.4               0.1   \n",
       "9                  4.9               3.1                1.5               0.1   \n",
       "31                 5.4               3.4                1.5               0.4   \n",
       "125                7.2               3.2                6.0               1.8   \n",
       "95                 5.7               3.0                4.2               1.2   \n",
       "56                 6.3               3.3                4.7               1.6   \n",
       "145                6.7               3.0                5.2               2.3   \n",
       "102                7.1               3.0                5.9               2.1   \n",
       "\n",
       "     predict  target     species  \n",
       "78         2       1  versicolor  \n",
       "106        2       2   virginica  \n",
       "128        1       2   virginica  \n",
       "55         2       1  versicolor  \n",
       "94         2       1  versicolor  \n",
       "29         0       0      setosa  \n",
       "147        1       2   virginica  \n",
       "51         2       1  versicolor  \n",
       "98         2       1  versicolor  \n",
       "141        1       2   virginica  \n",
       "19         0       0      setosa  \n",
       "60         2       1  versicolor  \n",
       "15         0       0      setosa  \n",
       "65         2       1  versicolor  \n",
       "24         0       0      setosa  \n",
       "30         0       0      setosa  \n",
       "126        2       2   virginica  \n",
       "101        2       2   virginica  \n",
       "96         2       1  versicolor  \n",
       "16         0       0      setosa  \n",
       "121        2       2   virginica  \n",
       "18         0       0      setosa  \n",
       "12         0       0      setosa  \n",
       "9          0       0      setosa  \n",
       "31         0       0      setosa  \n",
       "125        1       2   virginica  \n",
       "95         2       1  versicolor  \n",
       "56         2       1  versicolor  \n",
       "145        1       2   virginica  \n",
       "102        1       2   virginica  "
      ]
     },
     "execution_count": 31,
     "metadata": {},
     "output_type": "execute_result"
    }
   ],
   "source": [
    "predictions_test"
   ]
  },
  {
   "cell_type": "code",
   "execution_count": 32,
   "id": "292a1132",
   "metadata": {
    "execution": {
     "iopub.execute_input": "2024-10-18T05:32:07.274125Z",
     "iopub.status.busy": "2024-10-18T05:32:07.273041Z",
     "iopub.status.idle": "2024-10-18T05:32:07.278744Z",
     "shell.execute_reply": "2024-10-18T05:32:07.277448Z"
    },
    "papermill": {
     "duration": 0.032895,
     "end_time": "2024-10-18T05:32:07.281240",
     "exception": false,
     "start_time": "2024-10-18T05:32:07.248345",
     "status": "completed"
    },
    "tags": []
   },
   "outputs": [],
   "source": [
    "from sklearn.metrics import accuracy_score"
   ]
  },
  {
   "cell_type": "code",
   "execution_count": 33,
   "id": "4a5c2275",
   "metadata": {
    "execution": {
     "iopub.execute_input": "2024-10-18T05:32:07.327714Z",
     "iopub.status.busy": "2024-10-18T05:32:07.327281Z",
     "iopub.status.idle": "2024-10-18T05:32:07.355494Z",
     "shell.execute_reply": "2024-10-18T05:32:07.354250Z"
    },
    "papermill": {
     "duration": 0.054961,
     "end_time": "2024-10-18T05:32:07.358393",
     "exception": false,
     "start_time": "2024-10-18T05:32:07.303432",
     "status": "completed"
    },
    "tags": []
   },
   "outputs": [
    {
     "data": {
      "text/html": [
       "<div>\n",
       "<style scoped>\n",
       "    .dataframe tbody tr th:only-of-type {\n",
       "        vertical-align: middle;\n",
       "    }\n",
       "\n",
       "    .dataframe tbody tr th {\n",
       "        vertical-align: top;\n",
       "    }\n",
       "\n",
       "    .dataframe thead th {\n",
       "        text-align: right;\n",
       "    }\n",
       "</style>\n",
       "<table border=\"1\" class=\"dataframe\">\n",
       "  <thead>\n",
       "    <tr style=\"text-align: right;\">\n",
       "      <th></th>\n",
       "      <th>sepal length (cm)</th>\n",
       "      <th>sepal width (cm)</th>\n",
       "      <th>petal length (cm)</th>\n",
       "      <th>petal width (cm)</th>\n",
       "      <th>predict</th>\n",
       "      <th>target</th>\n",
       "      <th>species</th>\n",
       "    </tr>\n",
       "  </thead>\n",
       "  <tbody>\n",
       "    <tr>\n",
       "      <th>78</th>\n",
       "      <td>6.0</td>\n",
       "      <td>2.9</td>\n",
       "      <td>4.5</td>\n",
       "      <td>1.5</td>\n",
       "      <td>2</td>\n",
       "      <td>1</td>\n",
       "      <td>versicolor</td>\n",
       "    </tr>\n",
       "    <tr>\n",
       "      <th>106</th>\n",
       "      <td>4.9</td>\n",
       "      <td>2.5</td>\n",
       "      <td>4.5</td>\n",
       "      <td>1.7</td>\n",
       "      <td>2</td>\n",
       "      <td>2</td>\n",
       "      <td>virginica</td>\n",
       "    </tr>\n",
       "    <tr>\n",
       "      <th>128</th>\n",
       "      <td>6.4</td>\n",
       "      <td>2.8</td>\n",
       "      <td>5.6</td>\n",
       "      <td>2.1</td>\n",
       "      <td>1</td>\n",
       "      <td>2</td>\n",
       "      <td>virginica</td>\n",
       "    </tr>\n",
       "    <tr>\n",
       "      <th>55</th>\n",
       "      <td>5.7</td>\n",
       "      <td>2.8</td>\n",
       "      <td>4.5</td>\n",
       "      <td>1.3</td>\n",
       "      <td>2</td>\n",
       "      <td>1</td>\n",
       "      <td>versicolor</td>\n",
       "    </tr>\n",
       "    <tr>\n",
       "      <th>94</th>\n",
       "      <td>5.6</td>\n",
       "      <td>2.7</td>\n",
       "      <td>4.2</td>\n",
       "      <td>1.3</td>\n",
       "      <td>2</td>\n",
       "      <td>1</td>\n",
       "      <td>versicolor</td>\n",
       "    </tr>\n",
       "    <tr>\n",
       "      <th>29</th>\n",
       "      <td>4.7</td>\n",
       "      <td>3.2</td>\n",
       "      <td>1.6</td>\n",
       "      <td>0.2</td>\n",
       "      <td>0</td>\n",
       "      <td>0</td>\n",
       "      <td>setosa</td>\n",
       "    </tr>\n",
       "    <tr>\n",
       "      <th>147</th>\n",
       "      <td>6.5</td>\n",
       "      <td>3.0</td>\n",
       "      <td>5.2</td>\n",
       "      <td>2.0</td>\n",
       "      <td>1</td>\n",
       "      <td>2</td>\n",
       "      <td>virginica</td>\n",
       "    </tr>\n",
       "    <tr>\n",
       "      <th>51</th>\n",
       "      <td>6.4</td>\n",
       "      <td>3.2</td>\n",
       "      <td>4.5</td>\n",
       "      <td>1.5</td>\n",
       "      <td>2</td>\n",
       "      <td>1</td>\n",
       "      <td>versicolor</td>\n",
       "    </tr>\n",
       "    <tr>\n",
       "      <th>98</th>\n",
       "      <td>5.1</td>\n",
       "      <td>2.5</td>\n",
       "      <td>3.0</td>\n",
       "      <td>1.1</td>\n",
       "      <td>2</td>\n",
       "      <td>1</td>\n",
       "      <td>versicolor</td>\n",
       "    </tr>\n",
       "    <tr>\n",
       "      <th>141</th>\n",
       "      <td>6.9</td>\n",
       "      <td>3.1</td>\n",
       "      <td>5.1</td>\n",
       "      <td>2.3</td>\n",
       "      <td>1</td>\n",
       "      <td>2</td>\n",
       "      <td>virginica</td>\n",
       "    </tr>\n",
       "    <tr>\n",
       "      <th>19</th>\n",
       "      <td>5.1</td>\n",
       "      <td>3.8</td>\n",
       "      <td>1.5</td>\n",
       "      <td>0.3</td>\n",
       "      <td>0</td>\n",
       "      <td>0</td>\n",
       "      <td>setosa</td>\n",
       "    </tr>\n",
       "    <tr>\n",
       "      <th>60</th>\n",
       "      <td>5.0</td>\n",
       "      <td>2.0</td>\n",
       "      <td>3.5</td>\n",
       "      <td>1.0</td>\n",
       "      <td>2</td>\n",
       "      <td>1</td>\n",
       "      <td>versicolor</td>\n",
       "    </tr>\n",
       "    <tr>\n",
       "      <th>15</th>\n",
       "      <td>5.7</td>\n",
       "      <td>4.4</td>\n",
       "      <td>1.5</td>\n",
       "      <td>0.4</td>\n",
       "      <td>0</td>\n",
       "      <td>0</td>\n",
       "      <td>setosa</td>\n",
       "    </tr>\n",
       "    <tr>\n",
       "      <th>65</th>\n",
       "      <td>6.7</td>\n",
       "      <td>3.1</td>\n",
       "      <td>4.4</td>\n",
       "      <td>1.4</td>\n",
       "      <td>2</td>\n",
       "      <td>1</td>\n",
       "      <td>versicolor</td>\n",
       "    </tr>\n",
       "    <tr>\n",
       "      <th>24</th>\n",
       "      <td>4.8</td>\n",
       "      <td>3.4</td>\n",
       "      <td>1.9</td>\n",
       "      <td>0.2</td>\n",
       "      <td>0</td>\n",
       "      <td>0</td>\n",
       "      <td>setosa</td>\n",
       "    </tr>\n",
       "    <tr>\n",
       "      <th>30</th>\n",
       "      <td>4.8</td>\n",
       "      <td>3.1</td>\n",
       "      <td>1.6</td>\n",
       "      <td>0.2</td>\n",
       "      <td>0</td>\n",
       "      <td>0</td>\n",
       "      <td>setosa</td>\n",
       "    </tr>\n",
       "    <tr>\n",
       "      <th>126</th>\n",
       "      <td>6.2</td>\n",
       "      <td>2.8</td>\n",
       "      <td>4.8</td>\n",
       "      <td>1.8</td>\n",
       "      <td>2</td>\n",
       "      <td>2</td>\n",
       "      <td>virginica</td>\n",
       "    </tr>\n",
       "    <tr>\n",
       "      <th>101</th>\n",
       "      <td>5.8</td>\n",
       "      <td>2.7</td>\n",
       "      <td>5.1</td>\n",
       "      <td>1.9</td>\n",
       "      <td>2</td>\n",
       "      <td>2</td>\n",
       "      <td>virginica</td>\n",
       "    </tr>\n",
       "    <tr>\n",
       "      <th>96</th>\n",
       "      <td>5.7</td>\n",
       "      <td>2.9</td>\n",
       "      <td>4.2</td>\n",
       "      <td>1.3</td>\n",
       "      <td>2</td>\n",
       "      <td>1</td>\n",
       "      <td>versicolor</td>\n",
       "    </tr>\n",
       "    <tr>\n",
       "      <th>16</th>\n",
       "      <td>5.4</td>\n",
       "      <td>3.9</td>\n",
       "      <td>1.3</td>\n",
       "      <td>0.4</td>\n",
       "      <td>0</td>\n",
       "      <td>0</td>\n",
       "      <td>setosa</td>\n",
       "    </tr>\n",
       "    <tr>\n",
       "      <th>121</th>\n",
       "      <td>5.6</td>\n",
       "      <td>2.8</td>\n",
       "      <td>4.9</td>\n",
       "      <td>2.0</td>\n",
       "      <td>2</td>\n",
       "      <td>2</td>\n",
       "      <td>virginica</td>\n",
       "    </tr>\n",
       "    <tr>\n",
       "      <th>18</th>\n",
       "      <td>5.7</td>\n",
       "      <td>3.8</td>\n",
       "      <td>1.7</td>\n",
       "      <td>0.3</td>\n",
       "      <td>0</td>\n",
       "      <td>0</td>\n",
       "      <td>setosa</td>\n",
       "    </tr>\n",
       "    <tr>\n",
       "      <th>12</th>\n",
       "      <td>4.8</td>\n",
       "      <td>3.0</td>\n",
       "      <td>1.4</td>\n",
       "      <td>0.1</td>\n",
       "      <td>0</td>\n",
       "      <td>0</td>\n",
       "      <td>setosa</td>\n",
       "    </tr>\n",
       "    <tr>\n",
       "      <th>9</th>\n",
       "      <td>4.9</td>\n",
       "      <td>3.1</td>\n",
       "      <td>1.5</td>\n",
       "      <td>0.1</td>\n",
       "      <td>0</td>\n",
       "      <td>0</td>\n",
       "      <td>setosa</td>\n",
       "    </tr>\n",
       "    <tr>\n",
       "      <th>31</th>\n",
       "      <td>5.4</td>\n",
       "      <td>3.4</td>\n",
       "      <td>1.5</td>\n",
       "      <td>0.4</td>\n",
       "      <td>0</td>\n",
       "      <td>0</td>\n",
       "      <td>setosa</td>\n",
       "    </tr>\n",
       "    <tr>\n",
       "      <th>125</th>\n",
       "      <td>7.2</td>\n",
       "      <td>3.2</td>\n",
       "      <td>6.0</td>\n",
       "      <td>1.8</td>\n",
       "      <td>1</td>\n",
       "      <td>2</td>\n",
       "      <td>virginica</td>\n",
       "    </tr>\n",
       "    <tr>\n",
       "      <th>95</th>\n",
       "      <td>5.7</td>\n",
       "      <td>3.0</td>\n",
       "      <td>4.2</td>\n",
       "      <td>1.2</td>\n",
       "      <td>2</td>\n",
       "      <td>1</td>\n",
       "      <td>versicolor</td>\n",
       "    </tr>\n",
       "    <tr>\n",
       "      <th>56</th>\n",
       "      <td>6.3</td>\n",
       "      <td>3.3</td>\n",
       "      <td>4.7</td>\n",
       "      <td>1.6</td>\n",
       "      <td>2</td>\n",
       "      <td>1</td>\n",
       "      <td>versicolor</td>\n",
       "    </tr>\n",
       "    <tr>\n",
       "      <th>145</th>\n",
       "      <td>6.7</td>\n",
       "      <td>3.0</td>\n",
       "      <td>5.2</td>\n",
       "      <td>2.3</td>\n",
       "      <td>1</td>\n",
       "      <td>2</td>\n",
       "      <td>virginica</td>\n",
       "    </tr>\n",
       "    <tr>\n",
       "      <th>102</th>\n",
       "      <td>7.1</td>\n",
       "      <td>3.0</td>\n",
       "      <td>5.9</td>\n",
       "      <td>2.1</td>\n",
       "      <td>1</td>\n",
       "      <td>2</td>\n",
       "      <td>virginica</td>\n",
       "    </tr>\n",
       "  </tbody>\n",
       "</table>\n",
       "</div>"
      ],
      "text/plain": [
       "     sepal length (cm)  sepal width (cm)  petal length (cm)  petal width (cm)  \\\n",
       "78                 6.0               2.9                4.5               1.5   \n",
       "106                4.9               2.5                4.5               1.7   \n",
       "128                6.4               2.8                5.6               2.1   \n",
       "55                 5.7               2.8                4.5               1.3   \n",
       "94                 5.6               2.7                4.2               1.3   \n",
       "29                 4.7               3.2                1.6               0.2   \n",
       "147                6.5               3.0                5.2               2.0   \n",
       "51                 6.4               3.2                4.5               1.5   \n",
       "98                 5.1               2.5                3.0               1.1   \n",
       "141                6.9               3.1                5.1               2.3   \n",
       "19                 5.1               3.8                1.5               0.3   \n",
       "60                 5.0               2.0                3.5               1.0   \n",
       "15                 5.7               4.4                1.5               0.4   \n",
       "65                 6.7               3.1                4.4               1.4   \n",
       "24                 4.8               3.4                1.9               0.2   \n",
       "30                 4.8               3.1                1.6               0.2   \n",
       "126                6.2               2.8                4.8               1.8   \n",
       "101                5.8               2.7                5.1               1.9   \n",
       "96                 5.7               2.9                4.2               1.3   \n",
       "16                 5.4               3.9                1.3               0.4   \n",
       "121                5.6               2.8                4.9               2.0   \n",
       "18                 5.7               3.8                1.7               0.3   \n",
       "12                 4.8               3.0                1.4               0.1   \n",
       "9                  4.9               3.1                1.5               0.1   \n",
       "31                 5.4               3.4                1.5               0.4   \n",
       "125                7.2               3.2                6.0               1.8   \n",
       "95                 5.7               3.0                4.2               1.2   \n",
       "56                 6.3               3.3                4.7               1.6   \n",
       "145                6.7               3.0                5.2               2.3   \n",
       "102                7.1               3.0                5.9               2.1   \n",
       "\n",
       "     predict  target     species  \n",
       "78         2       1  versicolor  \n",
       "106        2       2   virginica  \n",
       "128        1       2   virginica  \n",
       "55         2       1  versicolor  \n",
       "94         2       1  versicolor  \n",
       "29         0       0      setosa  \n",
       "147        1       2   virginica  \n",
       "51         2       1  versicolor  \n",
       "98         2       1  versicolor  \n",
       "141        1       2   virginica  \n",
       "19         0       0      setosa  \n",
       "60         2       1  versicolor  \n",
       "15         0       0      setosa  \n",
       "65         2       1  versicolor  \n",
       "24         0       0      setosa  \n",
       "30         0       0      setosa  \n",
       "126        2       2   virginica  \n",
       "101        2       2   virginica  \n",
       "96         2       1  versicolor  \n",
       "16         0       0      setosa  \n",
       "121        2       2   virginica  \n",
       "18         0       0      setosa  \n",
       "12         0       0      setosa  \n",
       "9          0       0      setosa  \n",
       "31         0       0      setosa  \n",
       "125        1       2   virginica  \n",
       "95         2       1  versicolor  \n",
       "56         2       1  versicolor  \n",
       "145        1       2   virginica  \n",
       "102        1       2   virginica  "
      ]
     },
     "execution_count": 33,
     "metadata": {},
     "output_type": "execute_result"
    }
   ],
   "source": [
    "predictions_test"
   ]
  },
  {
   "cell_type": "code",
   "execution_count": 34,
   "id": "65f4fe66",
   "metadata": {
    "execution": {
     "iopub.execute_input": "2024-10-18T05:32:07.407715Z",
     "iopub.status.busy": "2024-10-18T05:32:07.406662Z",
     "iopub.status.idle": "2024-10-18T05:32:07.416504Z",
     "shell.execute_reply": "2024-10-18T05:32:07.415373Z"
    },
    "papermill": {
     "duration": 0.036844,
     "end_time": "2024-10-18T05:32:07.418790",
     "exception": false,
     "start_time": "2024-10-18T05:32:07.381946",
     "status": "completed"
    },
    "tags": []
   },
   "outputs": [
    {
     "data": {
      "text/plain": [
       "0.4666666666666667"
      ]
     },
     "execution_count": 34,
     "metadata": {},
     "output_type": "execute_result"
    }
   ],
   "source": [
    "accuracy_score(predictions_test['target'], predictions_test['predict'])"
   ]
  },
  {
   "cell_type": "code",
   "execution_count": 35,
   "id": "b26f00a3",
   "metadata": {
    "execution": {
     "iopub.execute_input": "2024-10-18T05:32:07.467210Z",
     "iopub.status.busy": "2024-10-18T05:32:07.466183Z",
     "iopub.status.idle": "2024-10-18T05:32:07.477217Z",
     "shell.execute_reply": "2024-10-18T05:32:07.476007Z"
    },
    "papermill": {
     "duration": 0.037823,
     "end_time": "2024-10-18T05:32:07.479551",
     "exception": false,
     "start_time": "2024-10-18T05:32:07.441728",
     "status": "completed"
    },
    "tags": []
   },
   "outputs": [
    {
     "data": {
      "text/plain": [
       "1.0"
      ]
     },
     "execution_count": 35,
     "metadata": {},
     "output_type": "execute_result"
    }
   ],
   "source": [
    "setosa = predictions_test[predictions_test['species'] == 'setosa']\n",
    "accuracy_score(setosa['target'], setosa['predict'])"
   ]
  },
  {
   "cell_type": "code",
   "execution_count": 36,
   "id": "13b5f51e",
   "metadata": {
    "execution": {
     "iopub.execute_input": "2024-10-18T05:32:07.528055Z",
     "iopub.status.busy": "2024-10-18T05:32:07.527609Z",
     "iopub.status.idle": "2024-10-18T05:32:07.538260Z",
     "shell.execute_reply": "2024-10-18T05:32:07.537158Z"
    },
    "papermill": {
     "duration": 0.03762,
     "end_time": "2024-10-18T05:32:07.540515",
     "exception": false,
     "start_time": "2024-10-18T05:32:07.502895",
     "status": "completed"
    },
    "tags": []
   },
   "outputs": [
    {
     "data": {
      "text/plain": [
       "0.0"
      ]
     },
     "execution_count": 36,
     "metadata": {},
     "output_type": "execute_result"
    }
   ],
   "source": [
    "versicolor = predictions_test[predictions_test['species'] == 'versicolor']\n",
    "# Accuracy test\n",
    "accuracy_score(versicolor['target'], versicolor['predict'])"
   ]
  },
  {
   "cell_type": "code",
   "execution_count": 37,
   "id": "57c3dcbf",
   "metadata": {
    "execution": {
     "iopub.execute_input": "2024-10-18T05:32:07.591050Z",
     "iopub.status.busy": "2024-10-18T05:32:07.590055Z",
     "iopub.status.idle": "2024-10-18T05:32:07.599917Z",
     "shell.execute_reply": "2024-10-18T05:32:07.598972Z"
    },
    "papermill": {
     "duration": 0.038566,
     "end_time": "2024-10-18T05:32:07.602275",
     "exception": false,
     "start_time": "2024-10-18T05:32:07.563709",
     "status": "completed"
    },
    "tags": []
   },
   "outputs": [
    {
     "data": {
      "text/plain": [
       "0.4"
      ]
     },
     "execution_count": 37,
     "metadata": {},
     "output_type": "execute_result"
    }
   ],
   "source": [
    "virginica = predictions_test[predictions_test['species'] == 'virginica']\n",
    "accuracy_score(virginica['target'], virginica['predict'])"
   ]
  },
  {
   "cell_type": "markdown",
   "id": "5260be28",
   "metadata": {
    "papermill": {
     "duration": 0.023529,
     "end_time": "2024-10-18T05:32:07.648945",
     "exception": false,
     "start_time": "2024-10-18T05:32:07.625416",
     "status": "completed"
    },
    "tags": []
   },
   "source": [
    "We will load the data from the SKLean Toy Datasets"
   ]
  },
  {
   "cell_type": "markdown",
   "id": "d32cacc0",
   "metadata": {
    "papermill": {
     "duration": 0.022976,
     "end_time": "2024-10-18T05:32:07.695460",
     "exception": false,
     "start_time": "2024-10-18T05:32:07.672484",
     "status": "completed"
    },
    "tags": []
   },
   "source": [
    "How do we get this into a data frame? Lets look at the keys in the 'bunch' (its just a dictionary really)"
   ]
  },
  {
   "cell_type": "markdown",
   "id": "c1d338a4",
   "metadata": {
    "papermill": {
     "duration": 0.023209,
     "end_time": "2024-10-18T05:32:07.742204",
     "exception": false,
     "start_time": "2024-10-18T05:32:07.718995",
     "status": "completed"
    },
    "tags": []
   },
   "source": [
    "Okay, let's use those keys to make us a dataframe for the **Target Attributes**:"
   ]
  },
  {
   "cell_type": "markdown",
   "id": "97efd887",
   "metadata": {
    "papermill": {
     "duration": 0.023594,
     "end_time": "2024-10-18T05:32:07.789361",
     "exception": false,
     "start_time": "2024-10-18T05:32:07.765767",
     "status": "completed"
    },
    "tags": []
   },
   "source": [
    "What feature names are there?"
   ]
  },
  {
   "cell_type": "markdown",
   "id": "68d49d39",
   "metadata": {
    "papermill": {
     "duration": 0.023351,
     "end_time": "2024-10-18T05:32:07.835907",
     "exception": false,
     "start_time": "2024-10-18T05:32:07.812556",
     "status": "completed"
    },
    "tags": []
   },
   "source": [
    "These will be our column names for the **Data Attributes**"
   ]
  },
  {
   "cell_type": "markdown",
   "id": "ca818b0f",
   "metadata": {
    "papermill": {
     "duration": 0.023276,
     "end_time": "2024-10-18T05:32:07.882931",
     "exception": false,
     "start_time": "2024-10-18T05:32:07.859655",
     "status": "completed"
    },
    "tags": []
   },
   "source": [
    "Now we can make a Data Frame for our Data Attributes: (This will contain all our *Independent Variables*)"
   ]
  },
  {
   "cell_type": "markdown",
   "id": "4958fe95",
   "metadata": {
    "papermill": {
     "duration": 0.023151,
     "end_time": "2024-10-18T05:32:07.929429",
     "exception": false,
     "start_time": "2024-10-18T05:32:07.906278",
     "status": "completed"
    },
    "tags": []
   },
   "source": [
    "Lets look at what we got:"
   ]
  },
  {
   "cell_type": "markdown",
   "id": "90216952",
   "metadata": {
    "papermill": {
     "duration": 0.023706,
     "end_time": "2024-10-18T05:32:07.976672",
     "exception": false,
     "start_time": "2024-10-18T05:32:07.952966",
     "status": "completed"
    },
    "tags": []
   },
   "source": [
    " "
   ]
  }
 ],
 "metadata": {
  "kaggle": {
   "accelerator": "none",
   "dataSources": [
    {
     "datasetId": 19,
     "sourceId": 420,
     "sourceType": "datasetVersion"
    }
   ],
   "dockerImageVersionId": 30775,
   "isGpuEnabled": false,
   "isInternetEnabled": true,
   "language": "python",
   "sourceType": "notebook"
  },
  "kernelspec": {
   "display_name": "Python 3",
   "language": "python",
   "name": "python3"
  },
  "language_info": {
   "codemirror_mode": {
    "name": "ipython",
    "version": 3
   },
   "file_extension": ".py",
   "mimetype": "text/x-python",
   "name": "python",
   "nbconvert_exporter": "python",
   "pygments_lexer": "ipython3",
   "version": "3.10.14"
  },
  "papermill": {
   "default_parameters": {},
   "duration": 11.797985,
   "end_time": "2024-10-18T05:32:08.622349",
   "environment_variables": {},
   "exception": null,
   "input_path": "__notebook__.ipynb",
   "output_path": "__notebook__.ipynb",
   "parameters": {},
   "start_time": "2024-10-18T05:31:56.824364",
   "version": "2.6.0"
  }
 },
 "nbformat": 4,
 "nbformat_minor": 5
}
